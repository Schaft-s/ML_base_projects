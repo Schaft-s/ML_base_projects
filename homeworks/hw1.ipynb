{
  "cells": [
    {
      "cell_type": "markdown",
      "metadata": {
        "id": "view-in-github",
        "colab_type": "text"
      },
      "source": [
        "<a href=\"https://colab.research.google.com/github/Schaft-s/ML_base_projects/blob/main/homeworks/hw1.ipynb\" target=\"_parent\"><img src=\"https://colab.research.google.com/assets/colab-badge.svg\" alt=\"Open In Colab\"/></a>"
      ]
    },
    {
      "cell_type": "markdown",
      "metadata": {
        "id": "5rUp2xWkdGFu"
      },
      "source": [
        "# Homework 1: Autoregressive models"
      ]
    },
    {
      "cell_type": "markdown",
      "metadata": {
        "id": "B0w70vkwZ-tw"
      },
      "source": [
        "## Task 1: Theory (5pt)"
      ]
    },
    {
      "cell_type": "markdown",
      "metadata": {
        "id": "ivV4DY1SPEIL"
      },
      "source": [
        "### Problem 1: f-divergence (1.5pt)\n",
        "\n",
        "In the Lecture 1 we have discussed that it is possible to formulate the generative modelling task as the divergence minimization task.\n",
        "\n",
        "\n",
        "$$\n",
        "\t\\min_{\\boldsymbol{\\theta}} D(\\pi || p),\n",
        "$$\n",
        "\n",
        "Let consider the family of f-divergencies:\n",
        "$$\n",
        "\tD_f(\\pi || p) = \\mathbb{E}_{p(\\mathbf{x})}  f\\left( \\frac{\\pi(\\mathbf{x})}{p(\\mathbf{x})} \\right)  = \\int p(\\mathbf{x}) f\\left( \\frac{\\pi(\\mathbf{x})}{p(\\mathbf{x})} \\right) d \\mathbf{x},\n",
        "$$\n",
        "where $f: \\mathbb{R}_+ \\rightarrow \\mathbb{R}$ is a convex, lower semicontinuous function satisfying $f(1) = 0$.\n",
        "\n",
        "It is easy to show that any function $D_f$ satisties the divergence definition.\n",
        "\n",
        "Your task here is to show that forward and reverse KL lie in the class of f-divergence.\n",
        "Find the functions $f$ that correspond to forward and KL divergences (they should satisfy the conditions on function $f$ described above)."
      ]
    },
    {
      "cell_type": "markdown",
      "metadata": {
        "id": "x1C_RPljZ-t3"
      },
      "source": [
        "Прямая KL:\n",
        "\n",
        "Пусть $f(x) = x \\log x$. Тогда:\n",
        "\n",
        "$\n",
        "\\int p(x) f\\left(\\frac{\\pi(x)}{p(x)}\\right) dx = \\int p(x) \\cdot \\frac{\\pi(x)}{p(x)} \\log\\left(\\frac{\\pi(x)}{p(x)}\\right) dx = \\int \\pi(x) \\log\\left(\\frac{\\pi(x)}{p(x)}\\right) dx = D_{KL}(\\pi || p)\n",
        "$\n",
        "\n",
        "проверка условий на f\n",
        "\n",
        "1.  $f''(x) = \\frac{1}{x} > 0$ для всех $x > 0$, следовательно функция выпукла\n",
        "\n",
        "2. f(1) = 0\n",
        "\n",
        "3. И нерперывность тоже есть на 0, +inf\n",
        "\n",
        "Обратная KL:\n",
        "\n",
        "\n",
        "Пусть $f(x) = -\\log x$. Тогда:\n",
        "\n",
        "$\n",
        "\\int p(x) f\\left(\\frac{\\pi(x)}{p(x)}\\right) dx = \\int p(x) \\cdot \\left(-\\log\\left(\\frac{\\pi(x)}{p(x)}\\right)\\right) dx = -\\int p(x) \\log\\left(\\frac{\\pi(x)}{p(x)}\\right) dx = D_{KL}(p || \\pi)\n",
        "$\n",
        "\n",
        "Проверка условий\n",
        "\n",
        "1. $f''(x) = \\frac{1}{x^2} > 0$ для всех $x > 0$, следовательно функция выпукла\n",
        "\n",
        "2. f(1) = 0\n",
        "\n",
        "3. И нерперывность тоже есть на 0, +inf\n",
        "\n",
        "\n",
        "Таким образом, показали, что:\n",
        "\n",
        "- Прямая KL-дивергенция соответствует f-дивергенции с функцией f(x) = x \\log x\n",
        "- Обратная - соответствует f-дивергенции с функцией f(x) = -\\log x\n",
        "\n"
      ]
    },
    {
      "cell_type": "markdown",
      "metadata": {
        "id": "c7wm4AOrZ-t4"
      },
      "source": [
        "### Problem 2: Curse of dimensionality (1.5pt)\n",
        "\n",
        "The main problem of the generative modelling is the curse of dimensionality. Let try to get some intuition about it.\n",
        "\n",
        "Let consider a sphere of radius $r = 1$ in $\\mathbb{R}^m$. Let say that it has the volume $V_m(r)$. Our goal is to find the fraction of the volume of the sphere that lies between radius $r = 1 - \\epsilon$ and $r = 1$. Our geometric intuition is that this fraction is small. But the magic happens with $m$ goes to infinity. Basically, the volume of a high dimensional sphere is mostly in this small fraction!\n",
        "\n",
        "1. Find the expression of the volume of a shpere of radius $r$ in $m$ dimensions.\n",
        "\n",
        "2. Find the required fraction $\\Delta = \\frac{V_m(1) - V_m(1 - \\epsilon)}{V_m(1)}$.\n",
        "\n",
        "3. Prove that, for large $m$, the fraction tends to 1 even for small values of $\\epsilon$."
      ]
    },
    {
      "cell_type": "markdown",
      "metadata": {
        "id": "sfyWlBzOZ-t4"
      },
      "source": [
        "1. Объём m-мерного шара радиуса r выражается через гамма-функцию следующей формулой:\n",
        "\n",
        "$V_m(r) = \\frac{\\pi^{m/2}}{\\Gamma(m/2 + 1)} r^m$\n",
        "\n",
        "Для удобства записывают в виде:\n",
        "$V_m(r) = C_m r^m$, где $C_m = \\frac{\\pi^{m/2}}{\\Gamma(m/2 + 1)}$ - константа, зависящая от размерности\n",
        "\n",
        "2.\n",
        "\n",
        "Подставляя формулу объёма:\n",
        "\n",
        "$\\Delta = \\frac{C_m \\cdot 1^m - C_m \\cdot (1 - \\epsilon)^m}{C_m \\cdot 1^m} = \\frac{1 - (1 - \\epsilon)^m}{1} = 1 - (1 - \\epsilon)^m$\n",
        "\n",
        "3.\n",
        "\n",
        "\n",
        "\n",
        "Рассмотрим выражение $(1 - \\epsilon)^m$:\n",
        "\n",
        "Заметим что $0 < 1 - \\epsilon < 1$\n",
        "\n",
        "При $m \\to \\infty$:\n",
        "$(1 - \\epsilon)^m \\to 0$\n",
        "\n",
        "Следовательно:\n",
        "$\\Delta = 1 - (1 - \\epsilon)^m \\to 1 - 0 = 1$\n",
        "\n",
        "или так:\n",
        "\n",
        "Если взять $\\epsilon = \\frac{t}{m}$ для $t > 0$, то:\n",
        "\n",
        "$(1 - \\epsilon)^m = \\left(1 - \\frac{t}{m}\\right)^m \\to e^{-t}$ при $m \\to \\infty$\n",
        "\n",
        "Это означает, что $\\Delta = 1 - e^{-t}$, и даже при $\\epsilon = \\frac{t}{m}$ (то есть $\\epsilon$ убывает как $1/m$) большая часть объёма всё ещё концентрируется в тонкой оболочке.\n"
      ]
    },
    {
      "cell_type": "markdown",
      "metadata": {
        "id": "YEkhwJyOGlUe"
      },
      "source": [
        "### Problem 3: Expressivity of normalizing flows (2pt)\n",
        "\n",
        "This problem considers the following question. Are normalizing flows able to represent **any** distribution $\\pi(\\mathbf{x})$, even if the base distribution $p(\\mathbf{u})$ is restricted to be simple?\n",
        "\n",
        "Let $\\pi(\\mathbf{x})$ is an absolutely continuous probability distribution supported everywhere on $\\mathbb{R}^m$ (i.e. $\\pi(\\mathbf{x}) > 0$ for all $\\mathbf{x} \\in \\mathbb{R}^m$). Additionally we suppose, that the pdf $\\pi(\\mathbf{x})$ is continuously differentiable on  $\\mathbb{R}^m$.  Our ultimate goal is to show, that there exists diffeomorphism (invertible continuously differentiable map):\n",
        "$$\n",
        "    \\mathbf{u} = F(\\mathbf{x}) \\quad F : \\mathbb{R}^m \\rightarrow \\mathbb{U}.\n",
        "$$\n",
        "Here $\\mathbb{U} = [0, 1]^m$ is a hypercube and $F$ turns $\\pi(\\mathbf{x})$ into uniform distribution $p(\\mathbf{u}) = U[0, 1]^m$ on the hypercube $\\mathbb{U}$ ($p(\\mathbf{u}) = 1 \\,,\\, \\mathbf{u} \\in \\mathbb{U}$). Here we have to think about openness and closeness of $\\mathbb{U}$ for formal math correctness, but we omit it in this task.\n",
        "\n",
        "<details>\n",
        "  <summary> <i>Math correctness comment</i> </summary>\n",
        "  \n",
        "   Strictly speaking, the diffeomorphism $F$ maps $\\mathbb{R}^m$ to the open cube $\\text{int}\\left(\\mathbb{U}\\right) = (0, 1)^m$, sinse the reverse mapping $F^{-1} : \\text{int}\\left(\\mathbb{U}\\right) \\rightarrow \\mathbb{R}^m$ is continuous $\\Rightarrow$ the preimage of the open set $\\mathbb{R}^m$ with respect to $F^{-1}$ should be <b>open</b>: $(F^{-1})^{-1}(\\mathbb{R}^m) = F(\\mathbb{R}^m) = \\text{an open set}$\n",
        "   \n",
        "</details>\n",
        "\n",
        "So, if such function exists, it means that **there exists normalizing flow model from base uniform distribution to any(!) target distribution.**\n",
        "\n",
        "---------\n",
        "\n",
        "1. Consider the autoregressive decomposition of $\\pi(\\mathbf{x})$:\n",
        "\n",
        "$$\n",
        "    \\pi(\\mathbf{x}) = \\prod\\limits_{j = 1}^{m} \\pi(x_j|\\mathbf{x}_{1:j - 1}).\n",
        "$$\n",
        "\n",
        "2. Treat each component $\\pi(x_j|\\mathbf{x}_{1:j - 1})$ in the decomposition above separately. Consider the transformations:\n",
        "\n",
        "$$\n",
        "    \\mathbf{x} \\rightarrow u_j = F_j(x_j, \\mathbf{x}_{1:j - 1}) = \\int\\limits_{- \\infty}^{x_j} \\pi(x_j'|\\mathbf{x}_{1:j - 1}) d x_j'.\n",
        "$$\n",
        "\n",
        "   Here $F_j(x_j, \\mathbf{x}_{1:j - 1})$ is the cumulative distribution function of $j$-th conditional $x_j$ (given $\\mathbf{x}_{1:j - 1}$) Note, that $u_j \\in [0, 1]$.\n",
        "\n",
        "3. Define the transform $F : \\mathbb{R}^m \\rightarrow \\mathbb{U}$ as follows:\n",
        "    \n",
        "$$\n",
        "    \\mathbf{x} \\rightarrow \\mathbf{u} = \\begin{bmatrix} F_1(x_1) \\\\ F_2(x_2,x_1) \\\\ \\dots \\\\ F_m(x_m, \\mathbf{x}_{1:m-1})\\end{bmatrix}.\n",
        "$$\n",
        "    \n",
        "Given the properties of $\\pi$ ($\\pi(\\mathbf{x}) > 0$ and continuously differentiable) it is easy to show, that $F$ is continuously differentiable. We omit the details since they are just boring mathematical calculations.\n",
        "\n",
        "1) Prove, that $\\det \\mathbf{J}_F (\\mathbf{x}) = \\pi(x)$ (it follows, that the function $F : \\mathbb{R}^m \\rightarrow \\mathbb{U}$ is invertible).\n",
        "\n",
        "2) Prove, that $\\mathbf{u}$ is a uniformly distributed ($p(\\mathbf{u}) = U[0,1]^m)$.\n",
        "\n",
        "3) Let $\\pi(\\mathbf{x})$ and $\\mu(\\mathbf{y})$ are absolutely continuous probability distributions supported everywhere on $\\mathbb{R}^m$, whose pdfs are continuously differentiable. Prove that there exists a diffeomorphism $G : \\mathbb{R}^m \\rightarrow \\mathbb{R}^m$ which turns $\\pi$ into $\\mu$, i.e.:\n",
        "\n",
        "$$\\mathbf{y} = G(\\mathbf{x}), \\quad \\text{where } \\mathbf{x} \\sim \\pi(\\mathbf{x}), \\, \\mathbf{y} \\sim \\mu(\\mathbf{y}).$$"
      ]
    },
    {
      "cell_type": "markdown",
      "metadata": {
        "id": "VvKs1QnnGlUg"
      },
      "source": [
        "```\n",
        "your solution\n",
        "```"
      ]
    },
    {
      "cell_type": "markdown",
      "metadata": {
        "id": "d2LH7vKPPVUt"
      },
      "source": [
        "Now it time to move on to practical part of homework.\n",
        "\n",
        "In our course we will use a small util [package](https://github.com/r-isachenko/dgm_utils) with some usefull functions for loading and visualizing the images and training curves. In each homework there will be a cell with installing this package. Please read carefully the sources of the functions from this package. It could help you to solve the tasks."
      ]
    },
    {
      "cell_type": "code",
      "execution_count": 1,
      "metadata": {
        "colab": {
          "base_uri": "https://localhost:8080/"
        },
        "id": "7wXq7VJ_SRAl",
        "outputId": "713281db-ef9b-4d85-e83d-fd96e474110b",
        "scrolled": true
      },
      "outputs": [
        {
          "output_type": "stream",
          "name": "stdout",
          "text": [
            "Cloning into 'dgm_utils'...\n",
            "remote: Enumerating objects: 188, done.\u001b[K\n",
            "remote: Counting objects: 100% (188/188), done.\u001b[K\n",
            "remote: Compressing objects: 100% (145/145), done.\u001b[K\n",
            "Receiving objects: 100% (188/188), 41.78 KiB | 10.44 MiB/s, done.\n",
            "remote: Total 188 (delta 122), reused 83 (delta 43), pack-reused 0 (from 0)\u001b[K\n",
            "Resolving deltas: 100% (122/122), done.\n",
            "/content/dgm_utils\n",
            "Note: switching to '79dfd7865ba692235f0a4d5aed20ee2820a19007'.\n",
            "\n",
            "You are in 'detached HEAD' state. You can look around, make experimental\n",
            "changes and commit them, and you can discard any commits you make in this\n",
            "state without impacting any branches by switching back to a branch.\n",
            "\n",
            "If you want to create a new branch to retain commits you create, you may\n",
            "do so (now or later) by using -c with the switch command. Example:\n",
            "\n",
            "  git switch -c <new-branch-name>\n",
            "\n",
            "Or undo this operation with:\n",
            "\n",
            "  git switch -\n",
            "\n",
            "Turn off this advice by setting config variable advice.detachedHead to false\n",
            "\n",
            "HEAD is now at 79dfd78 Make binarized images default type long\n",
            "Processing /content/dgm_utils\n",
            "  Preparing metadata (setup.py) ... \u001b[?25l\u001b[?25hdone\n",
            "Requirement already satisfied: numpy in /usr/local/lib/python3.12/dist-packages (from dgm_utils==0.1.1) (2.0.2)\n",
            "Requirement already satisfied: matplotlib in /usr/local/lib/python3.12/dist-packages (from dgm_utils==0.1.1) (3.10.0)\n",
            "Requirement already satisfied: pillow in /usr/local/lib/python3.12/dist-packages (from dgm_utils==0.1.1) (11.3.0)\n",
            "Requirement already satisfied: tqdm in /usr/local/lib/python3.12/dist-packages (from dgm_utils==0.1.1) (4.67.1)\n",
            "Requirement already satisfied: torch in /usr/local/lib/python3.12/dist-packages (from dgm_utils==0.1.1) (2.8.0+cu126)\n",
            "Requirement already satisfied: torchvision in /usr/local/lib/python3.12/dist-packages (from dgm_utils==0.1.1) (0.23.0+cu126)\n",
            "Requirement already satisfied: torchaudio in /usr/local/lib/python3.12/dist-packages (from dgm_utils==0.1.1) (2.8.0+cu126)\n",
            "Requirement already satisfied: gdown in /usr/local/lib/python3.12/dist-packages (from dgm_utils==0.1.1) (5.2.0)\n",
            "Requirement already satisfied: scikit-learn in /usr/local/lib/python3.12/dist-packages (from dgm_utils==0.1.1) (1.6.1)\n",
            "Collecting torchdiffeq (from dgm_utils==0.1.1)\n",
            "  Downloading torchdiffeq-0.2.5-py3-none-any.whl.metadata (440 bytes)\n",
            "Collecting torch-ema (from dgm_utils==0.1.1)\n",
            "  Downloading torch_ema-0.3-py3-none-any.whl.metadata (415 bytes)\n",
            "Collecting pot (from dgm_utils==0.1.1)\n",
            "  Downloading pot-0.9.6.post1-cp312-cp312-manylinux_2_24_x86_64.manylinux_2_28_x86_64.whl.metadata (40 kB)\n",
            "\u001b[2K     \u001b[90m━━━━━━━━━━━━━━━━━━━━━━━━━━━━━━━━━━━━━━━━\u001b[0m \u001b[32m40.2/40.2 kB\u001b[0m \u001b[31m3.6 MB/s\u001b[0m eta \u001b[36m0:00:00\u001b[0m\n",
            "\u001b[?25hRequirement already satisfied: beautifulsoup4 in /usr/local/lib/python3.12/dist-packages (from gdown->dgm_utils==0.1.1) (4.13.5)\n",
            "Requirement already satisfied: filelock in /usr/local/lib/python3.12/dist-packages (from gdown->dgm_utils==0.1.1) (3.19.1)\n",
            "Requirement already satisfied: requests[socks] in /usr/local/lib/python3.12/dist-packages (from gdown->dgm_utils==0.1.1) (2.32.4)\n",
            "Requirement already satisfied: contourpy>=1.0.1 in /usr/local/lib/python3.12/dist-packages (from matplotlib->dgm_utils==0.1.1) (1.3.3)\n",
            "Requirement already satisfied: cycler>=0.10 in /usr/local/lib/python3.12/dist-packages (from matplotlib->dgm_utils==0.1.1) (0.12.1)\n",
            "Requirement already satisfied: fonttools>=4.22.0 in /usr/local/lib/python3.12/dist-packages (from matplotlib->dgm_utils==0.1.1) (4.60.1)\n",
            "Requirement already satisfied: kiwisolver>=1.3.1 in /usr/local/lib/python3.12/dist-packages (from matplotlib->dgm_utils==0.1.1) (1.4.9)\n",
            "Requirement already satisfied: packaging>=20.0 in /usr/local/lib/python3.12/dist-packages (from matplotlib->dgm_utils==0.1.1) (25.0)\n",
            "Requirement already satisfied: pyparsing>=2.3.1 in /usr/local/lib/python3.12/dist-packages (from matplotlib->dgm_utils==0.1.1) (3.2.5)\n",
            "Requirement already satisfied: python-dateutil>=2.7 in /usr/local/lib/python3.12/dist-packages (from matplotlib->dgm_utils==0.1.1) (2.9.0.post0)\n",
            "Requirement already satisfied: scipy>=1.6 in /usr/local/lib/python3.12/dist-packages (from pot->dgm_utils==0.1.1) (1.16.2)\n",
            "Requirement already satisfied: joblib>=1.2.0 in /usr/local/lib/python3.12/dist-packages (from scikit-learn->dgm_utils==0.1.1) (1.5.2)\n",
            "Requirement already satisfied: threadpoolctl>=3.1.0 in /usr/local/lib/python3.12/dist-packages (from scikit-learn->dgm_utils==0.1.1) (3.6.0)\n",
            "Requirement already satisfied: typing-extensions>=4.10.0 in /usr/local/lib/python3.12/dist-packages (from torch->dgm_utils==0.1.1) (4.15.0)\n",
            "Requirement already satisfied: setuptools in /usr/local/lib/python3.12/dist-packages (from torch->dgm_utils==0.1.1) (75.2.0)\n",
            "Requirement already satisfied: sympy>=1.13.3 in /usr/local/lib/python3.12/dist-packages (from torch->dgm_utils==0.1.1) (1.13.3)\n",
            "Requirement already satisfied: networkx in /usr/local/lib/python3.12/dist-packages (from torch->dgm_utils==0.1.1) (3.5)\n",
            "Requirement already satisfied: jinja2 in /usr/local/lib/python3.12/dist-packages (from torch->dgm_utils==0.1.1) (3.1.6)\n",
            "Requirement already satisfied: fsspec in /usr/local/lib/python3.12/dist-packages (from torch->dgm_utils==0.1.1) (2025.3.0)\n",
            "Requirement already satisfied: nvidia-cuda-nvrtc-cu12==12.6.77 in /usr/local/lib/python3.12/dist-packages (from torch->dgm_utils==0.1.1) (12.6.77)\n",
            "Requirement already satisfied: nvidia-cuda-runtime-cu12==12.6.77 in /usr/local/lib/python3.12/dist-packages (from torch->dgm_utils==0.1.1) (12.6.77)\n",
            "Requirement already satisfied: nvidia-cuda-cupti-cu12==12.6.80 in /usr/local/lib/python3.12/dist-packages (from torch->dgm_utils==0.1.1) (12.6.80)\n",
            "Requirement already satisfied: nvidia-cudnn-cu12==9.10.2.21 in /usr/local/lib/python3.12/dist-packages (from torch->dgm_utils==0.1.1) (9.10.2.21)\n",
            "Requirement already satisfied: nvidia-cublas-cu12==12.6.4.1 in /usr/local/lib/python3.12/dist-packages (from torch->dgm_utils==0.1.1) (12.6.4.1)\n",
            "Requirement already satisfied: nvidia-cufft-cu12==11.3.0.4 in /usr/local/lib/python3.12/dist-packages (from torch->dgm_utils==0.1.1) (11.3.0.4)\n",
            "Requirement already satisfied: nvidia-curand-cu12==10.3.7.77 in /usr/local/lib/python3.12/dist-packages (from torch->dgm_utils==0.1.1) (10.3.7.77)\n",
            "Requirement already satisfied: nvidia-cusolver-cu12==11.7.1.2 in /usr/local/lib/python3.12/dist-packages (from torch->dgm_utils==0.1.1) (11.7.1.2)\n",
            "Requirement already satisfied: nvidia-cusparse-cu12==12.5.4.2 in /usr/local/lib/python3.12/dist-packages (from torch->dgm_utils==0.1.1) (12.5.4.2)\n",
            "Requirement already satisfied: nvidia-cusparselt-cu12==0.7.1 in /usr/local/lib/python3.12/dist-packages (from torch->dgm_utils==0.1.1) (0.7.1)\n",
            "Requirement already satisfied: nvidia-nccl-cu12==2.27.3 in /usr/local/lib/python3.12/dist-packages (from torch->dgm_utils==0.1.1) (2.27.3)\n",
            "Requirement already satisfied: nvidia-nvtx-cu12==12.6.77 in /usr/local/lib/python3.12/dist-packages (from torch->dgm_utils==0.1.1) (12.6.77)\n",
            "Requirement already satisfied: nvidia-nvjitlink-cu12==12.6.85 in /usr/local/lib/python3.12/dist-packages (from torch->dgm_utils==0.1.1) (12.6.85)\n",
            "Requirement already satisfied: nvidia-cufile-cu12==1.11.1.6 in /usr/local/lib/python3.12/dist-packages (from torch->dgm_utils==0.1.1) (1.11.1.6)\n",
            "Requirement already satisfied: triton==3.4.0 in /usr/local/lib/python3.12/dist-packages (from torch->dgm_utils==0.1.1) (3.4.0)\n",
            "Requirement already satisfied: six>=1.5 in /usr/local/lib/python3.12/dist-packages (from python-dateutil>=2.7->matplotlib->dgm_utils==0.1.1) (1.17.0)\n",
            "Requirement already satisfied: mpmath<1.4,>=1.1.0 in /usr/local/lib/python3.12/dist-packages (from sympy>=1.13.3->torch->dgm_utils==0.1.1) (1.3.0)\n",
            "Requirement already satisfied: soupsieve>1.2 in /usr/local/lib/python3.12/dist-packages (from beautifulsoup4->gdown->dgm_utils==0.1.1) (2.8)\n",
            "Requirement already satisfied: MarkupSafe>=2.0 in /usr/local/lib/python3.12/dist-packages (from jinja2->torch->dgm_utils==0.1.1) (3.0.3)\n",
            "Requirement already satisfied: charset_normalizer<4,>=2 in /usr/local/lib/python3.12/dist-packages (from requests[socks]->gdown->dgm_utils==0.1.1) (3.4.3)\n",
            "Requirement already satisfied: idna<4,>=2.5 in /usr/local/lib/python3.12/dist-packages (from requests[socks]->gdown->dgm_utils==0.1.1) (3.10)\n",
            "Requirement already satisfied: urllib3<3,>=1.21.1 in /usr/local/lib/python3.12/dist-packages (from requests[socks]->gdown->dgm_utils==0.1.1) (2.5.0)\n",
            "Requirement already satisfied: certifi>=2017.4.17 in /usr/local/lib/python3.12/dist-packages (from requests[socks]->gdown->dgm_utils==0.1.1) (2025.8.3)\n",
            "Requirement already satisfied: PySocks!=1.5.7,>=1.5.6 in /usr/local/lib/python3.12/dist-packages (from requests[socks]->gdown->dgm_utils==0.1.1) (1.7.1)\n",
            "Downloading pot-0.9.6.post1-cp312-cp312-manylinux_2_24_x86_64.manylinux_2_28_x86_64.whl (1.5 MB)\n",
            "\u001b[2K   \u001b[90m━━━━━━━━━━━━━━━━━━━━━━━━━━━━━━━━━━━━━━━━\u001b[0m \u001b[32m1.5/1.5 MB\u001b[0m \u001b[31m50.9 MB/s\u001b[0m eta \u001b[36m0:00:00\u001b[0m\n",
            "\u001b[?25hDownloading torch_ema-0.3-py3-none-any.whl (5.5 kB)\n",
            "Downloading torchdiffeq-0.2.5-py3-none-any.whl (32 kB)\n",
            "Building wheels for collected packages: dgm_utils\n",
            "  Building wheel for dgm_utils (setup.py) ... \u001b[?25l\u001b[?25hdone\n",
            "  Created wheel for dgm_utils: filename=dgm_utils-0.1.1-py3-none-any.whl size=6103 sha256=63b6c01d45f77b7837ed0346d40c67b99493b1cfa86df08fa52903502db29ee2\n",
            "  Stored in directory: /tmp/pip-ephem-wheel-cache-4zyl0cvd/wheels/e6/bd/65/9ef8c40e3360f4c485724c5bde1d551893d2283ff6630e6dd2\n",
            "Successfully built dgm_utils\n",
            "Installing collected packages: pot, torchdiffeq, torch-ema, dgm_utils\n",
            "Successfully installed dgm_utils-0.1.1 pot-0.9.6.post1 torch-ema-0.3 torchdiffeq-0.2.5\n",
            "/content\n"
          ]
        }
      ],
      "source": [
        "COMMIT_HASH = \"79dfd7865ba692235f0a4d5aed20ee2820a19007\"\n",
        "!if [ -d dgm_utils ]; then rm -Rf dgm_utils; fi\n",
        "!git clone https://github.com/r-isachenko/dgm_utils.git\n",
        "%cd dgm_utils\n",
        "!git checkout {COMMIT_HASH}\n",
        "!pip install ./\n",
        "%cd ./..\n",
        "!rm -Rf dgm_utils"
      ]
    },
    {
      "cell_type": "code",
      "execution_count": null,
      "metadata": {
        "id": "m-44Dxk6SRAp"
      },
      "outputs": [],
      "source": [
        "from dgm_utils import train_model\n",
        "from dgm_utils import show_samples, visualize_images, load_dataset\n",
        "from dgm_utils import BaseModel"
      ]
    },
    {
      "cell_type": "code",
      "execution_count": null,
      "metadata": {
        "id": "zk6rWePvdGFv"
      },
      "outputs": [],
      "source": [
        "import numpy as np\n",
        "import matplotlib.pyplot as plt\n",
        "\n",
        "from typing import Optional, Literal\n",
        "\n",
        "import torch\n",
        "import torch.nn as nn\n",
        "import torch.nn.functional as F\n",
        "import torch.utils.data as data\n",
        "\n",
        "if torch.cuda.is_available():\n",
        "    DEVICE = \"cuda\"\n",
        "    print('GPU found :)')\n",
        "else:\n",
        "    DEVICE = \"cpu\"\n",
        "    print('GPU not found :(')"
      ]
    },
    {
      "cell_type": "code",
      "execution_count": null,
      "metadata": {
        "id": "PiOBcSvx_PN8"
      },
      "outputs": [],
      "source": [
        "train_data, test_data = load_dataset(\"mnist\", flatten=False, binarize=True)\n",
        "visualize_images(train_data.astype(float), \"MNIST samples\")"
      ]
    },
    {
      "cell_type": "markdown",
      "metadata": {
        "id": "KHouHarf_Hs-"
      },
      "source": [
        "## Task 2: PixelCNN receptive field and autocompletion on MNIST (5pt)\n",
        "\n",
        "In this task, you will **analyze PixelCNN**, focusing on its sampling capabilities and receptive field. See the [lecture 1](https://github.com/r-isachenko/2025-DGM-MIPT-YSDA-course/blob/main/lectures/lecture1/Lecture1.pdf), [seminar 1](https://github.com/r-isachenko/2025-DGM-MIPT-YSDA-course/blob/main/seminars/seminar1/seminar1_Part2_PixelCNN.ipynb) and [paper](https://arxiv.org/abs/1601.06759) for details."
      ]
    },
    {
      "cell_type": "markdown",
      "metadata": {
        "id": "R6fOJgeeGlUn"
      },
      "source": [
        "### Architecture"
      ]
    },
    {
      "cell_type": "markdown",
      "metadata": {
        "id": "elXdTtB7_6Xl"
      },
      "source": [
        "Masked Convolution Layer is the basic building block of PixelCNN model. Look carefully at this code."
      ]
    },
    {
      "cell_type": "code",
      "execution_count": null,
      "metadata": {
        "id": "ybALnsgO_PRW"
      },
      "outputs": [],
      "source": [
        "class MaskedConv2d(nn.Conv2d):\n",
        "    def __init__(\n",
        "        self, mask_type: Literal['A', 'B'], in_channels: int, out_channels: int, kernel_size: int = 5\n",
        "    ) -> None:\n",
        "        assert mask_type in [\"A\", \"B\"]\n",
        "        super().__init__(\n",
        "            in_channels=in_channels,\n",
        "            out_channels=out_channels,\n",
        "            kernel_size=kernel_size,\n",
        "            padding=kernel_size // 2,\n",
        "        )\n",
        "        # register_buffer() registers the tensor as a non-trainable buffer:\n",
        "        # 1. It stays on the same device as the model (moves with .to(device)).\n",
        "        # 2. It is not updated during backpropagation (not a learnable parameter).\n",
        "        self.register_buffer(\"mask\", torch.zeros_like(self.weight))\n",
        "        self.create_mask(mask_type)\n",
        "\n",
        "    def forward(self, input: torch.Tensor) -> torch.Tensor:\n",
        "        return F.conv2d(input, self.weight * self.mask, self.bias, padding=self.padding)\n",
        "\n",
        "    def create_mask(self, mask_type: Literal['A', 'B']) -> None:\n",
        "        # NOTE: try to understand the logic about mask_type\n",
        "        k = self.kernel_size[0]\n",
        "        self.mask[:, :, : k // 2] = 1\n",
        "        self.mask[:, :, k // 2, : k // 2] = 1\n",
        "        if mask_type == \"B\":\n",
        "            self.mask[:, :, k // 2, k // 2] = 1"
      ]
    },
    {
      "cell_type": "markdown",
      "metadata": {
        "id": "lPw0osOrAJFm"
      },
      "source": [
        "[Layer Normalization](https://arxiv.org/abs/1607.06450) stabilizes training. We normalize only over the channel dimension because `nn.LayerNorm([C, H, W])` would normalize each pixel position independently, disrupting the feature map structure essential for PixelCNN."
      ]
    },
    {
      "cell_type": "code",
      "execution_count": null,
      "metadata": {
        "id": "npUNrimpAGUZ"
      },
      "outputs": [],
      "source": [
        "class LayerNorm(nn.LayerNorm):\n",
        "    def __init__(self, n_filters: int) -> None:\n",
        "        super().__init__(n_filters)\n",
        "\n",
        "    def forward(self, x: torch.Tensor) -> torch.Tensor:\n",
        "        x = x.permute(0, 2, 3, 1).contiguous()\n",
        "        x = super().forward(x)\n",
        "        return x.permute(0, 3, 1, 2).contiguous()"
      ]
    },
    {
      "cell_type": "markdown",
      "metadata": {
        "id": "11_PstPkAXig"
      },
      "source": [
        "Now we are ready to define the main PixelCNN model."
      ]
    },
    {
      "cell_type": "code",
      "execution_count": null,
      "metadata": {
        "id": "xC6E-hrHALYf"
      },
      "outputs": [],
      "source": [
        "class PixelCNN(BaseModel):\n",
        "    def __init__(\n",
        "        self,\n",
        "        input_shape: tuple[int, int],\n",
        "        n_filters: int = 64,\n",
        "        kernel_size: int = 7,\n",
        "        n_layers: int = 5,\n",
        "        use_layer_norm: bool = True,\n",
        "    ) -> None:\n",
        "\n",
        "        super().__init__()\n",
        "        self.input_shape = input_shape\n",
        "\n",
        "        # we apply the sequence of MaskedConv2d -> LayerNorm (it is optional) -> ReLU\n",
        "        # the last layer should be MaskedConv2d (not ReLU)\n",
        "        # Note 1: the first conv layer should be of type 'A'\n",
        "        # Note 2: final output_dim in MaskedConv2d must be 2\n",
        "        model: list[nn.Module] = [MaskedConv2d(\"A\", 1, n_filters, kernel_size=kernel_size)]\n",
        "\n",
        "        for _ in range(n_layers):\n",
        "            if use_layer_norm:\n",
        "                model.append(LayerNorm(n_filters))\n",
        "            model.append(nn.ReLU())\n",
        "            model.append(MaskedConv2d(\"B\", n_filters, n_filters, kernel_size=kernel_size))\n",
        "\n",
        "        model.append(nn.ReLU())\n",
        "        model.append(MaskedConv2d(\"B\", in_channels=n_filters, out_channels=2, kernel_size=1))\n",
        "        self.net = nn.Sequential(*model)\n",
        "\n",
        "    def forward(self, x: torch.Tensor) -> torch.Tensor:\n",
        "        batch_size = x.shape[0]\n",
        "        out = (x.float() - 0.5) / 0.5\n",
        "        out = self.net(out)\n",
        "        return out.view(batch_size, 2, 1, *self.input_shape)\n",
        "\n",
        "    def loss(self, x: torch.Tensor) -> dict:\n",
        "        # our loss is just cross entropy\n",
        "        total_loss = F.cross_entropy(self(x), x.long())\n",
        "        return {\"total_loss\": total_loss}\n",
        "\n",
        "    @torch.no_grad()\n",
        "    def sample(self, n: int) -> np.ndarray:\n",
        "        # read carefully the sampling process\n",
        "        # here you see the sequential process of sampling\n",
        "        samples = torch.zeros(n, 1, *self.input_shape).to(self.device)\n",
        "        for r in range(self.input_shape[0]):\n",
        "            for c in range(self.input_shape[1]):\n",
        "                logits = self(samples)[:, :, :, r, c]\n",
        "                probs = F.softmax(logits, dim=1).squeeze(-1)\n",
        "                samples[:, 0, r, c] = torch.multinomial(probs, num_samples=1).squeeze(-1)\n",
        "        return samples.cpu().numpy()"
      ]
    },
    {
      "cell_type": "markdown",
      "metadata": {
        "id": "gDrMX2oXGlUp"
      },
      "source": [
        "### Training"
      ]
    },
    {
      "cell_type": "code",
      "execution_count": null,
      "metadata": {
        "colab": {
          "base_uri": "https://localhost:8080/",
          "height": 68,
          "referenced_widgets": [
            "cbddb1ae1a1d4124b972851b77bc24b9",
            "f519525bb7b640bebd08160d3710008c",
            "4a84d8a794ff4aeb8376f85e45384a89",
            "72ca46babd314fa88a8e59b2aa41f7af",
            "1c55fe8da4c848478801552a1aa3d420",
            "5425bd677e334fa385ff37ddf7eee1d5",
            "7045dbbf8309480bb4a697edb4f4d127",
            "6bb8abfa64ab4e1280cf3efe38b3f7a8",
            "67b3bc3b3359480f863649780ec1cf13",
            "8c11c45785494f2593bf113240f97f46",
            "0773888b28204289b0c9eb77c975ea91"
          ]
        },
        "id": "9FI5foNQBlr5",
        "outputId": "5c19070e-fe92-4c97-f365-d479dd87beb1"
      },
      "outputs": [
        {
          "data": {
            "image/png": "[encoded data removed]",
            "text/plain": [
              "<Figure size 600x600 with 1 Axes>"
            ]
          },
          "metadata": {},
          "output_type": "display_data"
        },
        {
          "data": {
            "image/png": "[encoded data removed]",
            "text/plain": [
              "<Figure size 640x480 with 1 Axes>"
            ]
          },
          "metadata": {},
          "output_type": "display_data"
        },
        {
          "name": "stdout",
          "output_type": "stream",
          "text": [
            "End of the training\n"
          ]
        }
      ],
      "source": [
        "# ====\n",
        "# your code\n",
        "# choose these parameters\n",
        "EPOCHS =\n",
        "BATCH_SIZE =\n",
        "LR =\n",
        "N_LAYERS =\n",
        "N_FILTERS =\n",
        "USE_LAYER_NORM =\n",
        "# ====\n",
        "\n",
        "pixel_cnn = PixelCNN(\n",
        "    input_shape=(32, 32),\n",
        "    n_filters=N_FILTERS,\n",
        "    kernel_size=7,\n",
        "    n_layers=N_LAYERS,\n",
        "    use_layer_norm=USE_LAYER_NORM,\n",
        ")\n",
        "\n",
        "train_loader = data.DataLoader(train_data, batch_size=BATCH_SIZE, shuffle=True)\n",
        "test_loader = data.DataLoader(test_data, batch_size=BATCH_SIZE)\n",
        "\n",
        "# choose any optimizer/scheduler as you want\n",
        "optimizer = torch.optim.Adam(pixel_cnn.parameters(), lr=LR)\n",
        "\n",
        "train_model(\n",
        "    pixel_cnn,\n",
        "    train_loader,\n",
        "    test_loader,\n",
        "    epochs=EPOCHS,\n",
        "    optimizer=optimizer,\n",
        "    device=DEVICE,\n",
        "    n_samples=16, # Remember the infernce is slow, so, you can lower the value\n",
        "    visualize_samples=True # or you can turn off smapling by setting `visualize_samples=False`\n",
        ")"
      ]
    },
    {
      "cell_type": "markdown",
      "metadata": {
        "id": "bdMY__h8CwE5"
      },
      "source": [
        "Now we sample the new images from the model. Notice that the model is sequential and **sampling is really slow** (it is a drawback of all AR models)"
      ]
    },
    {
      "cell_type": "code",
      "execution_count": null,
      "metadata": {
        "id": "skwg5JlRCt0s"
      },
      "outputs": [],
      "source": [
        "samples = pixel_cnn.sample(25)\n",
        "show_samples(samples, title=\"PixelCNN samples\", nrow=5)"
      ]
    },
    {
      "cell_type": "markdown",
      "metadata": {
        "id": "z8eXfFdWzoVu"
      },
      "source": [
        "### Image autocompletion\n",
        "\n",
        "One more feature of autoregressive models is that they can be **easily adapted for image autocompletion**. As autoregressive models predict pixels one by one, we can set the first pixels to predefined values and check how the model completes the image.\n",
        "\n",
        "For implementing this, we just need to skip the iterations in the sampling loop that already have a value unequals to -1.\n",
        "We redefine the sample method in our PixelCNN class to allow it to take the init of the sample."
      ]
    },
    {
      "cell_type": "code",
      "execution_count": null,
      "metadata": {
        "id": "2X24nc_eqET-"
      },
      "outputs": [],
      "source": [
        "class PixelCNNAutoComplete(PixelCNN):\n",
        "    @torch.no_grad()\n",
        "    def sample(self, n: int, init: Optional[torch.Tensor] = None) -> np.ndarray:\n",
        "        # ====\n",
        "        # your code\n",
        "        # this method almost the same as the method of the base PixelCNN model\n",
        "        # but now if init is given, this tensor will be used as a starting image.\n",
        "        # NOTE: fill the pixels only with value equals to -1 in the input tensor.\n",
        "\n",
        "        # ===="
      ]
    },
    {
      "cell_type": "markdown",
      "metadata": {
        "id": "139yXAuvGlUt"
      },
      "source": [
        "To skip training the model again, we simply load the parameters from an already trained one."
      ]
    },
    {
      "cell_type": "code",
      "execution_count": null,
      "metadata": {
        "id": "qFdMAilywnI-"
      },
      "outputs": [],
      "source": [
        "pixel_cnn_ac = PixelCNNAutoComplete(\n",
        "    input_shape=(32, 32),\n",
        "    n_filters=N_FILTERS,\n",
        "    kernel_size=7,\n",
        "    n_layers=N_LAYERS,\n",
        "    use_layer_norm=USE_LAYER_NORM,\n",
        ")\n",
        "\n",
        "pixel_cnn_ac.load_state_dict(pixel_cnn.state_dict())"
      ]
    },
    {
      "cell_type": "markdown",
      "metadata": {
        "id": "Rd9rpg2I0paF"
      },
      "source": [
        "We randomly take images from the training set, mask the lower half of the image (set -1's), and let the model autocomplete it. We do this several times for each image to see the diversity of samples."
      ]
    },
    {
      "cell_type": "code",
      "execution_count": null,
      "metadata": {
        "id": "yR0zivWlwsYR"
      },
      "outputs": [],
      "source": [
        "def autocomplete_image(\n",
        "    original_image: np.ndarray,\n",
        "    model: PixelCNNAutoComplete,\n",
        "    n_samples: int\n",
        ") -> None:\n",
        "    # Remove lower half of the image\n",
        "    original_image = np.repeat(original_image[None, :, :, :], n_samples, axis=0)\n",
        "    masked_image = original_image.copy()\n",
        "    masked_image[:, :, masked_image.shape[2] // 2 :, :] = -1\n",
        "\n",
        "    # Generate completions\n",
        "    generated_image = model.sample(n_samples, torch.tensor(masked_image).to(model.device))\n",
        "    images_to_show = np.concat([np.maximum(masked_image, 0), generated_image, original_image], axis=0)\n",
        "    show_samples(images_to_show.astype(float), title=\"PixelCNN autocompletion\", nrow=n_samples)\n",
        "\n",
        "for i in range(1, 4):\n",
        "    autocomplete_image(test_data[i], pixel_cnn_ac, n_samples=4)"
      ]
    },
    {
      "cell_type": "markdown",
      "metadata": {
        "id": "6LK1ttmcqfvW"
      },
      "source": [
        "### Receptive field\n",
        "\n",
        "Next, let's visualize the model's receptive field. It **can be empirically measured** by backpropagating an arbitrary loss from a specific output pixel back to the input."
      ]
    },
    {
      "cell_type": "code",
      "execution_count": null,
      "metadata": {
        "id": "J1ekd7rGDBTi"
      },
      "outputs": [],
      "source": [
        "def plot_receptive_field(model: nn.Module, model_name: str) -> None:\n",
        "    # ====\n",
        "    # your code\n",
        "    # 1) create tensor with zeros and set required_grad to True.\n",
        "    # 2) apply model to the tensor\n",
        "    # 3) apply backward() to the center pixel of model output\n",
        "    # 4) take the gradient with respect to input\n",
        "    # 5) binary receptive field is an indicator map in which we stay 1's if absolute gradient more than 1e-8\n",
        "    # 6) weighted receptive field is the normalized absolute gradient (values lies in [0, 1])\n",
        "\n",
        "    # ====\n",
        "\n",
        "    # we stack the maps to get RGB image\n",
        "    binary_map = np.stack([binary_map, binary_map, binary_map], axis=-1)\n",
        "    weighted_map = np.stack([weighted_map, weighted_map, weighted_map], axis=-1)\n",
        "\n",
        "    # center point will be red\n",
        "    binary_map[x_center, y_center] = [1, 0, 0]\n",
        "    weighted_map[x_center, y_center] = [1, 0, 0]\n",
        "\n",
        "    fig, ax = plt.subplots(1, 2, figsize=(10, 6))\n",
        "    ax[0].imshow(weighted_map, vmin=0.0, vmax=1.0)\n",
        "    ax[1].imshow(binary_map, vmin=0.0, vmax=1.0)\n",
        "\n",
        "    ax[0].set_title(f\"Weighted receptive field for {model_name}\")\n",
        "    ax[1].set_title(f\"Binary receptive field for {model_name}\")\n",
        "\n",
        "    ax[0].axis(\"off\")\n",
        "    ax[1].axis(\"off\")\n",
        "    plt.show()"
      ]
    },
    {
      "cell_type": "code",
      "execution_count": null,
      "metadata": {
        "id": "ruOurWdFDIYP"
      },
      "outputs": [],
      "source": [
        "for n_layers in [1, 3, 5, 6, 7]:\n",
        "    model = PixelCNN(\n",
        "        input_shape=(32, 32),\n",
        "        n_filters=32,\n",
        "        kernel_size=5,\n",
        "        n_layers=n_layers,\n",
        "        use_layer_norm=True\n",
        "    )\n",
        "    model = model.to(DEVICE)\n",
        "    plot_receptive_field(model, model_name=f\"PixelCNN {n_layers} layers\")"
      ]
    },
    {
      "cell_type": "markdown",
      "metadata": {
        "id": "Njl3VAmruh_v"
      },
      "source": [
        "You can see that as the number of convolutional layers increases, the **receptive field expands**. However, it **remains relatively limited**. Even with a well-trained model, generated samples **lack long-range dependencies**. Moreover, you may notice a strange **blind spot** in the binary receptive field plot on the right side. This is a known issue with the PixelCNN model. Please try to understand why it happens.\n",
        "\n",
        "One way to solve this problem is a [GatedPixelCNN](https://arxiv.org/pdf/1606.05328.pdf) model (see paper, if you are interested in)."
      ]
    },
    {
      "cell_type": "markdown",
      "metadata": {
        "id": "DajrWO8YJyYB"
      },
      "source": [
        "## Task 3: ImageGPT on MNIST (5pt)\n",
        "\n",
        "In this task you will try to implement the Image Transformer net for an autoregressive generation MNIST images. See the [blog](https://openai.com/blog/image-gpt/) and [paper](https://cdn.openai.com/papers/Generative_Pretraining_from_Pixels_V2.pdf) for details."
      ]
    },
    {
      "cell_type": "markdown",
      "metadata": {
        "id": "Wz6to33lJydk"
      },
      "source": [
        "### Architecture"
      ]
    },
    {
      "cell_type": "markdown",
      "metadata": {
        "id": "bl_g0XJDX8Py"
      },
      "source": [
        "Let start with **the multihead attention block**. Each head of the multihead attention computes an embedding\n",
        "$$\n",
        "    \\text{Attention}(\\mathbf{Q}, \\mathbf{K}, \\mathbf{V}) = \\text{softmax}\\left(\\frac{\\mathbf{Q}\\mathbf{K}^T}{\\sqrt{d_k}}\\right) \\mathbf{V},\n",
        "$$\n",
        "where $\\mathbf{Q}, \\mathbf{K}, \\mathbf{V}$ - query/key/value matrices obtained using Linear projection of $\\mathbf{h}^l$.\n",
        "\n",
        "**To make the model autoregressive** we will introduce the following changes:\n",
        "\n",
        "1. We will apply the upper triangular mask to the matrix of attention logits ($\\mathbf{Q}\\mathbf{K}^T$). Masked values are made close to minus infinity so they will turn zero after softmax.\n",
        "2. During training we will add \"start of sequence\" token to the input tensor and pop the last pixel.\n",
        "\n",
        "Note: we will use raster order to identify which pixels come first (as we have done in PixelCNN). For each pixel the predicted probabality is conditioned on all the previous pixels."
      ]
    },
    {
      "cell_type": "code",
      "execution_count": null,
      "metadata": {
        "id": "lv9pX1eyQ09M"
      },
      "outputs": [],
      "source": [
        "class MultiheadAttention(nn.MultiheadAttention):\n",
        "    def __init__(self, embed_dim: int, num_heads: int) -> None:\n",
        "        super().__init__(embed_dim, num_heads)\n",
        "\n",
        "    def get_attention_mask(self, x: torch.Tensor) -> torch.Tensor:\n",
        "        # ====\n",
        "        # your code\n",
        "        # define attention mask, it should contain\n",
        "        # - zeros under and on the main diagonal\n",
        "        # - minus Inf above the main diagonal\n",
        "\n",
        "        # ====\n",
        "        return attention_mask\n",
        "\n",
        "    def forward(self, x: torch.Tensor) -> torch.Tensor:\n",
        "        attn_mask = self.get_attention_mask(x)\n",
        "        return super().forward(x, x, x, attn_mask=attn_mask, need_weights=False)[0]\n",
        "\n",
        "\n",
        "def test_attention_mask() -> None:\n",
        "    x = torch.zeros(2, 4, 16)  # (pixel_num, batch_size, emb_dim)\n",
        "    mask = np.array([[0.0, -np.inf], [0.0, 0.0]])\n",
        "    layer = MultiheadAttention(16, 8)\n",
        "    attention_mask = layer.get_attention_mask(x)\n",
        "    assert attention_mask.size() == (x.size(0), x.size(0))\n",
        "    assert np.allclose(attention_mask.numpy(), mask)\n",
        "    out = layer(x)\n",
        "    assert x.size() == out.size()\n",
        "\n",
        "\n",
        "test_attention_mask()"
      ]
    },
    {
      "cell_type": "markdown",
      "metadata": {
        "id": "a3DcBLp3T86-"
      },
      "source": [
        "Now we will define **the decoder block** wich transformes the tensor as follows:\n",
        "\\begin{align}\n",
        "    \\mathbf{n}^l &= \\text{layer\\_norm}_1\\left(\\mathbf{h}^l\\right), \\\\\n",
        "    \\mathbf{a}^l &= \\mathbf{h}^l + \\text{multihead\\_attention}\\left(\\mathbf{n}^l\\right), \\\\\n",
        "    \\mathbf{h}^{l+1} &= \\mathbf{a}^l + \\text{MLP}\\left(\\text{layer\\_norm}_2\\left(a^l\\right)\\right). \\\\\n",
        "\\end{align}\n",
        "\n",
        "The $l^{\\text{th}}$ block receives a tensor $\\mathbf{h}^l$ with shape `(pixel_num, batch_size, emb_dim)` where `pixel_num` is a total number of pixels $(28*28)$ and `emb_dim` is a hyperparameter for the size of the embeddings. We will use just 2 linear layers with ReLU activation for MLP."
      ]
    },
    {
      "cell_type": "code",
      "execution_count": null,
      "metadata": {
        "id": "yBxhyjd7h3Ww"
      },
      "outputs": [],
      "source": [
        "class TransformerBlock(nn.Module):\n",
        "    def __init__(self, embed_dim: int, num_heads: int) -> None:\n",
        "        super().__init__()\n",
        "        assert embed_dim % num_heads == 0\n",
        "\n",
        "        # ====\n",
        "        # your code\n",
        "        # define multihead attention (https://pytorch.org/docs/stable/generated/torch.nn.MultiheadAttention.html)\n",
        "        # define LayerNorm (https://pytorch.org/docs/stable/generated/torch.nn.LayerNorm.html)\n",
        "        # (here we do not use previous class for LayerNorm because we do not need to change order of tensor dimensions)\n",
        "        # define MLP - 2 linear layers with ReLU\n",
        "        # (You could choose the latent dimensionality of MLP as you like. For example, double the embed_dim)\n",
        "\n",
        "        # ====\n",
        "\n",
        "    def forward(self, x: torch.Tensor) -> torch.Tensor:\n",
        "        # ====\n",
        "        # your code\n",
        "        # here you have to implement formulas that described above.\n",
        "\n",
        "        # ====\n",
        "        return x\n",
        "\n",
        "\n",
        "def test_decoder_block() -> None:\n",
        "    block = TransformerBlock(embed_dim=12, num_heads=4)\n",
        "    x = torch.zeros(4, 28, 12)\n",
        "    assert x.shape == block(x).shape\n",
        "\n",
        "\n",
        "test_decoder_block()"
      ]
    },
    {
      "cell_type": "markdown",
      "metadata": {
        "id": "9zvySpcGGlVt"
      },
      "source": [
        "Finally, let's construct the Image Transformer. It consists of $L$ sequentially applied decoder blocks.\n",
        "\n",
        "The initial embedding $h^1$ is the sum of the token embedding of the input batch and a trainable positional embedding, with a \"start of sequence\" token prepended.\n",
        "\n",
        "After passing through the last decoder block, we apply `nn.LayerNorm` followed by a `nn.Linear` layer to produce logits of shape `(pixel_num, batch_size, 1)`:\n",
        "\n",
        "$$\n",
        "\\begin{align*}\n",
        "  n^L &= \\text{layer\\_norm}\\left(h^L\\right) \\\\\n",
        "  \\text{logits} &= \\text{linear}\\left(n^L\\right)\n",
        "\\end{align*}\n",
        "$$"
      ]
    },
    {
      "cell_type": "code",
      "execution_count": null,
      "metadata": {
        "id": "2yXwW9fvVJN1"
      },
      "outputs": [],
      "source": [
        "class ImageGPT(BaseModel):\n",
        "    def __init__(\n",
        "        self, input_shape: tuple[int, int], embed_dim: int, num_heads: int, num_layers: int\n",
        "    ) -> None:\n",
        "        super().__init__()\n",
        "\n",
        "        self.embed_dim = embed_dim\n",
        "        self.input_shape = input_shape\n",
        "        self.criterion = nn.BCEWithLogitsLoss()\n",
        "\n",
        "        # \"start of sequence\" token (we initialize it from Normal distribution)\n",
        "        self.sos = nn.Parameter(torch.zeros(embed_dim))\n",
        "\n",
        "        # ====\n",
        "        # your code\n",
        "        # 1) define token_embeddings (we will have 2 embeddings in total, because our images are binary)\n",
        "        # 2) define position_embeddings (we will use nn.Embedding)\n",
        "\n",
        "        # ====\n",
        "\n",
        "        self.layers = nn.ModuleList()\n",
        "        # ====\n",
        "        # your code\n",
        "        # 1) add decoder blocks to self.layers list\n",
        "        # 2) define last LayerNorm\n",
        "        # 3) define final Linear layer (without bias)\n",
        "\n",
        "        # ====\n",
        "\n",
        "    def add_sos_token(self, embeddings: torch.Tensor) -> torch.Tensor:\n",
        "        batch_size = embeddings.size(1)\n",
        "        # ====\n",
        "        # your code\n",
        "        # prepend sos (start of sequence) token\n",
        "        # 1) repeat sos token batch_size times (make it of size (1, batch_size, emd_size))\n",
        "        # 2) drop last embedding from embeddings\n",
        "        # 3) concat repeated sos token to embeddings (after dropping)\n",
        "\n",
        "        # ====\n",
        "        return embeddings\n",
        "\n",
        "    def add_pos_embeddings(self, embeddings: torch.Tensor) -> torch.Tensor:\n",
        "        length = embeddings.size(0)\n",
        "        # ====\n",
        "        # your code\n",
        "        # add positional embeddings\n",
        "        # 1) define tensor with positions (just torch.arange) of size (length, 1)\n",
        "        # 2) add position embeddings to initial embeddings\n",
        "\n",
        "        # ====\n",
        "        return embeddings\n",
        "\n",
        "    def forward(self, x: torch.Tensor) -> torch.Tensor:\n",
        "        x = x.long()\n",
        "        x = x.reshape(x.size(0), -1)  # (batch_size, length)\n",
        "        x = x.permute(1, 0)\n",
        "\n",
        "        embeddings = self.token_embeddings(x)  # (length, batch_size, emb_size)\n",
        "        embeddings = self.add_sos_token(embeddings)\n",
        "        embeddings = self.add_pos_embeddings(embeddings)\n",
        "\n",
        "        # ====\n",
        "        # your code\n",
        "        # 1) apply all decoder layers\n",
        "        # 2) apply final LayerNorm and Linear layer\n",
        "\n",
        "        # ====\n",
        "\n",
        "        return logits.permute(1, 0, 2)  # (length, batch_size, emb_size) -> (batch_size, length, emb_size)\n",
        "\n",
        "    def loss(self, x: torch.Tensor) -> dict:\n",
        "        logits = self(x)\n",
        "        loss = self.criterion(logits.reshape(-1), x.reshape(-1).float())\n",
        "        return {\"total_loss\": loss}\n",
        "\n",
        "    @torch.no_grad()\n",
        "    def sample(self, n_samples: int) -> np.ndarray:\n",
        "        # read sampling carefully\n",
        "        seq_len = self.input_shape[0] * self.input_shape[1]\n",
        "        samples = torch.zeros(n_samples, seq_len).long().to(self.device)\n",
        "        for i in range(seq_len):\n",
        "            logits = self(samples)\n",
        "            dist = torch.distributions.Bernoulli(logits=logits[:, i, 0])\n",
        "            samples[:, i] = dist.sample()\n",
        "        samples = samples.reshape(n_samples, 1, *self.input_shape)\n",
        "        return samples.cpu().numpy().astype(float)\n",
        "\n",
        "\n",
        "def test_image_gpt() -> None:\n",
        "    image_gpt = ImageGPT(input_shape=(2, 2), embed_dim=12, num_heads=4, num_layers=2)\n",
        "    x = torch.LongTensor([[0, 1, 0, 0], [0, 1, 1, 1]])\n",
        "    assert image_gpt(x).shape == torch.Size([2, 4, 1])\n",
        "    assert image_gpt.loss(x)[\"total_loss\"].requires_grad == True\n",
        "    assert image_gpt.sample(1).shape == torch.Size([1, 1, 2, 2])\n",
        "\n",
        "\n",
        "test_image_gpt()"
      ]
    },
    {
      "cell_type": "markdown",
      "metadata": {
        "id": "NptSgGtRXyca"
      },
      "source": [
        "### Training\n",
        "\n",
        "Now we are ready to train our model."
      ]
    },
    {
      "cell_type": "code",
      "execution_count": null,
      "metadata": {
        "colab": {
          "base_uri": "https://localhost:8080/",
          "height": 49,
          "referenced_widgets": [
            "b58b14e1ff08487aa8572cc79d242928",
            "cfdf6e891231495cadf4636063eeda53",
            "893cb4a9d8f94d7c9a6f90d46fa8a15e",
            "1ea2d22fcc7c42e796b8da898a9233f0",
            "0944b22a17c949f681afe1995f7f684c",
            "31c04490292b4a1e9c8623ad7ba19e8f",
            "6b834161adcc40548ab3e795e324565a",
            "5fc400b74c5241eb9b986a0268adfc9f",
            "2586235a37db44598e414f55d9c73883",
            "3d63d10d58464437adb4cc7ab05ea593",
            "9055399b0d844bfe92b95fc15942bb01"
          ]
        },
        "id": "yXy7j5HoXJtE",
        "outputId": "bed89288-e650-463c-8270-50f1d6bd50c7"
      },
      "outputs": [
        {
          "data": {
            "image/png": "[encoded data removed]",
            "text/plain": [
              "<Figure size 600x600 with 1 Axes>"
            ]
          },
          "metadata": {},
          "output_type": "display_data"
        },
        {
          "data": {
            "image/png": "[encoded data removed]",
            "text/plain": [
              "<Figure size 640x480 with 1 Axes>"
            ]
          },
          "metadata": {},
          "output_type": "display_data"
        },
        {
          "name": "stdout",
          "output_type": "stream",
          "text": [
            "End of the training\n"
          ]
        }
      ],
      "source": [
        "# ====\n",
        "# your code\n",
        "# choose these parameters\n",
        "EPOCHS =\n",
        "BATCH_SIZE =\n",
        "LR =\n",
        "\n",
        "EMB_DIM =\n",
        "NUM_HEADS =\n",
        "NUM_LAYERS =\n",
        "# ====\n",
        "\n",
        "image_gpt = ImageGPT((32, 32), EMB_DIM, NUM_HEADS, NUM_LAYERS)\n",
        "\n",
        "train_loader = data.DataLoader(train_data, batch_size=BATCH_SIZE, shuffle=True)\n",
        "test_loader = data.DataLoader(test_data, batch_size=BATCH_SIZE)\n",
        "\n",
        "# choose any optimizer/scheduler as you want\n",
        "optimizer = torch.optim.Adam(image_gpt.parameters(), lr=LR)\n",
        "\n",
        "train_model(\n",
        "    image_gpt,\n",
        "    train_loader,\n",
        "    test_loader,\n",
        "    epochs=EPOCHS,\n",
        "    optimizer=optimizer,\n",
        "    device=DEVICE,\n",
        "    n_samples=16, # Remember the infernce is slow, so, you can lower the value\n",
        "    visualize_samples=True # or you can turn off smapling by setting `visualize_samples=False`\n",
        ")"
      ]
    },
    {
      "cell_type": "markdown",
      "metadata": {
        "id": "Hz5t-srXk2-i"
      },
      "source": [
        "Let sample from our model. You probably get better samples than PixelCNN samples."
      ]
    },
    {
      "cell_type": "code",
      "execution_count": null,
      "metadata": {
        "id": "jUC3JBReYCau"
      },
      "outputs": [],
      "source": [
        "samples = image_gpt.sample(25)\n",
        "show_samples(samples, title=\"ImageGPT samples\", nrow=5)"
      ]
    }
  ],
  "metadata": {
    "accelerator": "GPU",
    "colab": {
      "provenance": [],
      "toc_visible": true,
      "include_colab_link": true
    },
    "kernelspec": {
      "display_name": "Python 3 (ipykernel)",
      "language": "python",
      "name": "python3"
    },
    "language_info": {
      "codemirror_mode": {
        "name": "ipython",
        "version": 3
      },
      "file_extension": ".py",
      "mimetype": "text/x-python",
      "name": "python",
      "nbconvert_exporter": "python",
      "pygments_lexer": "ipython3",
      "version": "3.10.16"
    },
    "vscode": {
      "interpreter": {
        "hash": "784c2e2ba9cdfc1ce1e8c565791a35aa78e810f3990b00899de93c9f5ea5b088"
      }
    }
  },
  "nbformat": 4,
  "nbformat_minor": 0
}