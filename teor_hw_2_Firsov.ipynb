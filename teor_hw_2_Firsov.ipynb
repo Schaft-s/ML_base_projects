{
 "cells": [
  {
   "cell_type": "markdown",
   "id": "75eb618c-a5e0-4298-9685-ff7aefa371dd",
   "metadata": {},
   "source": [
    "# Теоретическое домашнее задание 2 по курсу «Байесовский выбор моделей»\n",
    "Выполнил Фирсов Сергей из Б05-105"
   ]
  },
  {
   "cell_type": "markdown",
   "id": "9bf4432f-1fa9-4545-b38d-f8bbe0f603ef",
   "metadata": {},
   "source": [
    "## Библиотеки"
   ]
  },
  {
   "cell_type": "code",
   "execution_count": 6,
   "id": "0025e4a0-0dbb-4ced-936f-2dcaef3066bd",
   "metadata": {},
   "outputs": [],
   "source": [
    "import pandas as pd\n",
    "import numpy as np\n",
    "import matplotlib.pyplot as plt\n",
    "import scipy as sc\n",
    "from scipy.stats import norm, t\n",
    "import scipy.stats as stats\n",
    "import statsmodels.stats.multitest as smm"
   ]
  },
  {
   "cell_type": "code",
   "execution_count": 5,
   "id": "c8a38356-f402-4a46-943d-555421c0b1e5",
   "metadata": {},
   "outputs": [],
   "source": [
    "np.random.seed(42)"
   ]
  },
  {
   "cell_type": "markdown",
   "id": "defb812b-d14c-4e66-a984-1226a2a38b1e",
   "metadata": {
    "jp-MarkdownHeadingCollapsed": true
   },
   "source": [
    "## Задача 1"
   ]
  },
  {
   "cell_type": "markdown",
   "id": "b1a35c3c-6ef5-4da5-8b1a-34573d712898",
   "metadata": {},
   "source": [
    "#### Гипотезы\n",
    "$ H_0: m = 0 $  \n",
    "$ H_1: m \\neq 0 $\n",
    "\n",
    "#### Статистика \n",
    "\n",
    "Оценка среднего по выборке $ \\bar{x}$ для нормально распределённой выборки $ \\{x_i\\} $ будет нормально распределена:\n",
    "$$\n",
    "\\bar{x} \\sim \\mathcal{N}(m, \\frac{\\sigma^2}{n}).\n",
    "$$\n",
    "Так как не известна дисперсия, то стандартизируем статистику:\n",
    "$$\n",
    "Z = \\frac{\\bar{x}}{S / \\sqrt{n}},\n",
    "$$\n",
    "где $ S^2 $ — выборочная дисперсия:\n",
    "$\n",
    "S^2 = \\frac{1}{n-1} \\sum_{i=1}^{n} (x_i - \\bar{x})^2.\n",
    "$  \n",
    "\n",
    "Так как $ n > 100 $ - статистика $ Z $ будет распределена приближённо как стандартное нормальное распределение $ \\mathcal{N}(0, 1) $.\n",
    "\n",
    "#### Критическая область\n",
    "\n",
    "Для уровня значимости $\\alpha$ критическая область для двусторонней альтернативной гипотезы $H_1: m \\neq 0$ задается:\n",
    "\n",
    "$$\n",
    "\\Omega = \\{ Z : |Z| > z_{\\alpha/2} \\},\n",
    "$$\n",
    "\n",
    "где $z_{\\alpha/2}$ — квантиль стандартного нормального распределения, соответствующая уровню значимости $\\alpha$.\n",
    "\n",
    "#### Мощность\n",
    "Мощность критерия  — это вероятность отвергнуть нулевую гипотезу  H_0 , если истинное значение параметра $ m \\neq 0 $. Это вероятность того, что статистика Z попадет в критическую область при истинном значении m .\n",
    "\n",
    "Для истинного значения  m  распределение статистики при альтернативной гипотезе будет:\n",
    "$\n",
    "Z \\sim \\mathcal{N}\\left( \\frac{m}{\\sigma/\\sqrt{n}}, 1 \\right).\n",
    "$\n",
    "\n",
    "Тогда вероятность отвергнуть $ H_0 $ при альтернативной гипотезе, то есть мощность критерия, будет:\n",
    "$\n",
    "W(m, \\sigma) = P\\left( |Z| > z_{\\alpha/2} \\mid m \\right).\n",
    "$\n",
    "\n",
    "Это можно выразить как:$ W(m, \\sigma) = P\\left( Z > z_{\\alpha/2} \\mid m \\right) + P\\left( Z < -z_{\\alpha/2} \\mid m \\right).$\n",
    "\n",
    "Подставив распределение  Z  при $ m \\neq 0 $, получим: $Z = \\frac{\\bar{x}}{\\sigma/\\sqrt{n}} \\sim \\mathcal{N}\\left( \\frac{m}{\\sigma/\\sqrt{n}}, 1 \\right).$\n",
    "\n",
    "Теперь оцениваем вероятность для нормального распределения:\n",
    "$$\n",
    "W(m, \\sigma) = 1 - \\Phi\\left( z_{\\alpha/2} - \\frac{m\\sqrt{n}}{\\sigma} \\right) + \\Phi\\left( -z_{\\alpha/2} - \\frac{m\\sqrt{n}}{\\sigma} \\right),\n",
    "$$\n",
    "где $ \\Phi(\\cdot) $ — функция распределения стандартного нормального распределения.\n"
   ]
  },
  {
   "cell_type": "code",
   "execution_count": 16,
   "id": "281765a0-f225-4c1a-9c63-b7e778404670",
   "metadata": {},
   "outputs": [
    {
     "name": "stdout",
     "output_type": "stream",
     "text": [
      "Z = 0.8062, Критическое значение = 1.9600\n",
      "Гипотеза H0 не отвергнута\n",
      "Мощность критерия при m = 1: 1.0000\n"
     ]
    }
   ],
   "source": [
    "n = 150\n",
    "alpha = 0.05\n",
    "true_mean = 0\n",
    "m_alternative = 1\n",
    "sigma = 1\n",
    "\n",
    "sample = np.random.normal(loc=true_mean, scale=sigma, size=n)\n",
    "\n",
    "sample_mean = np.mean(sample)\n",
    "sample_std = np.std(sample, ddof=1)\n",
    "Z = sample_mean / (sample_std / np.sqrt(n))\n",
    "\n",
    "z_critical = norm.ppf(1 - alpha / 2)\n",
    "\n",
    "# Проверка гипотезы\n",
    "print(f\"Z = {Z:.4f}, Критическое значение = {z_critical:.4f}\")\n",
    "print(\"Гипотеза H0 отвергнута\" if abs(Z) > z_critical else \"Гипотеза H0 не отвергнута\")\n",
    "\n",
    "# Оценка мощности\n",
    "Z_alt = (m_alternative * np.sqrt(n)) / sigma\n",
    "power = 1 - norm.cdf(z_critical - Z_alt) + norm.cdf(-z_critical - Z_alt)\n",
    "print(f\"Мощность критерия при m = {m_alternative}: {power:.4f}\")"
   ]
  },
  {
   "cell_type": "code",
   "execution_count": null,
   "id": "e5f7aba2-e672-4e3b-875c-0ace147e34c2",
   "metadata": {},
   "outputs": [],
   "source": []
  },
  {
   "cell_type": "markdown",
   "id": "98e6bbd0-fef5-468c-a8d5-ba67b5924548",
   "metadata": {},
   "source": [
    "## Задача 2"
   ]
  },
  {
   "cell_type": "code",
   "execution_count": null,
   "id": "599b6380-e31e-444f-8ddb-6088e9dd243e",
   "metadata": {},
   "outputs": [],
   "source": []
  },
  {
   "cell_type": "markdown",
   "id": "dd5fc711-58a5-464a-84b7-162b1be70adb",
   "metadata": {
    "jp-MarkdownHeadingCollapsed": true
   },
   "source": [
    "## Задача 3"
   ]
  },
  {
   "cell_type": "markdown",
   "id": "fbbc7a1b-2ae7-427d-97fd-54ba371bfe98",
   "metadata": {},
   "source": [
    "### а) Доказательство\n",
    "В наших обозначениях метрики выражаются формулами  \n",
    "$Accuracy$:\n",
    "$$ACC = \\frac{\\sum\\limits_{i=1}^{m_2} |y_i = \\hat{y}_i |}{N}$$\n",
    "и  $ASY(P)$  \n",
    "$ P = \\left( \\begin{matrix} p_{00} & p_{01} \\\\  p_{10} & p_{11}\\end{matrix} \\right)$ , для неё штраф $ASY(P) = \\sum\\limits_{i=1}^{m_2}p_{yi\\hat{y}i}$\n",
    "\n",
    "\n",
    "Нетрудно заметить что легко свести $ACY(P)$ к $ACC$, заменив диагональные элементы матрицы $Р$ на 1: $p_{00} = p_{11} = \\frac{1}{N}$, а остальные на 0: $\\quad p_{01} = p_{10} = 0$. Тогда \n",
    "$$\n",
    "\\sum\\limits_{i=1}^{m_2} p_{y_i\\hat{y}_i} = \\frac{\\sum\\limits_{i=1}^{m_2} |y_i = \\hat{y}_i |}{N}\n",
    "$$"
   ]
  },
  {
   "cell_type": "markdown",
   "id": "7fbd1652-04c6-45d8-889c-114c1f3938bc",
   "metadata": {},
   "source": [
    "### б) \n",
    "### часть 1. Оптимальный прогноз в терминах ACC\n",
    " - Казалось бы надо просто предсказывать самый часто встречающийся класс, но давайте разбираться.\n",
    " - Из условия $P(y_j = 1) = p$. Введём также $\\hat{p}_j = P(\\hat{y}_j = 1)$.\n",
    " - Для того чтобы максимизировать ACC - нужно минимизировать количество ошибок.  \n",
    " - Из условия выборка шумовая,значит единственная доступная информация — это вероятность того, что $y_j = 1$.\n",
    "\n",
    "Запишем матожидание АСС, для предсказанного $\\hat{y}_j$\n",
    "\n",
    "$$\n",
    "\\mathbf{E}(ACC) = p \\cdot P(\\hat{y}_j = 1) + (1 - p) \\cdot P(\\hat{y}_j = 0) = p \\cdot \\hat{p}_j + (1 - p) \\cdot (1 - \\hat{p}_j)\n",
    "$$\n",
    "\n",
    "Максимум достигается, если: $\\hat{p}_j = 1$, при $p \\geq 0.5$, и $= 0$ при $ p < 0.5 $\n",
    "\n",
    "То есть оптимальный прогноз в терминах ACC заключается в том, чтобы всегда предсказывать класс 1, если вероятность $p \\geq 0.5$, и класс 0, если $p < 0.5$. То есть предсказывать самый часто встречающийся класс.\n",
    "\n",
    "### часть 2. Оптимальный прогноз в терминах ASY(P)\n",
    "- Из условия $P(y_j = 1) = p$. Введём также $\\hat{p}_j = P(\\hat{y}_j = 1)$.\n",
    "Для ASY(P) пишем аналогично матожидание\n",
    "$$\n",
    "\\mathbf{E}(ASY(P)) = \\sum\\limits_{i=1}^{N} \\left( (1 - p) \\cdot p_{00} \\cdot (1 - \\hat{p}_i) + (1 - p) \\cdot p_{01} \\cdot \\hat{p}_i + p \\cdot p_{10} \\cdot (1 - \\hat{p}_i) + p \\cdot p_{11} \\cdot \\hat{p}_i \\right) =  \\sum\\limits_{i=1}^{N} \\left( \\hat{p}_i \\cdot \\left( p_{01}(1 - p) + p_{11} p \\right) + (1 - \\hat{p}_i) \\cdot \\left( p_{00}(1 - p) + p_{10} p \\right) \\right)\n",
    "$$\n",
    "\n",
    "Для максимизации ASY(P) нужно выбрать такие значения $\\hat{p}_i$, которые минимизируют количество ошибок. Оптимальное значение $\\hat{p}_i$ будет следующим:\n",
    "\n",
    "$$\n",
    "\\hat{p}_i = \\begin{cases}\n",
    "1, \\;\\; p_{00}(1 - p) + p_{10} p \\leq p_{01}(1 - p) + p_{11} p \\\\\n",
    "0, \\;\\; p_{00}(1 - p) + p_{10} p > p_{01}(1 - p) + p_{11} p\n",
    "\\end{cases}\n",
    "$$\n",
    "\n",
    "Оптимальный прогноз для максимизации ASY(P) зависит от значений вероятностей $p_{ij}$ и параметра $p$.\n",
    "\n",
    "### часть 3.\n",
    "Возьмём просто долю объектов с меткой класса 1 в обучающей выборке:\n",
    "\n",
    "$$\n",
    "\\hat{p} = \\frac{1}{N} \\sum\\limits_{i=1}^{N} \\mathbb{1}(y_i = 1)\n",
    "$$\n",
    "\n",
    "внутри индикатор метки класса.\n",
    "\n",
    "#### Что делать, если $\\hat{p}$ не отличается значимо от 0.5?\n",
    "\n",
    "Если оценка $\\hat{p}$ близка к 0.5 - это означает, что классы 0 и 1 встречаются в данных примерно с одинаковой частотой. Значит мы ничего не можем сделать кроме как и оставить такое р как и получается. Ну или взять 0.5, но принципиальных отличий не будет."
   ]
  },
  {
   "cell_type": "markdown",
   "id": "28ba49d7-5acb-4e29-87d2-7eff0d690614",
   "metadata": {
    "jp-MarkdownHeadingCollapsed": true
   },
   "source": [
    "## Задача 4"
   ]
  },
  {
   "cell_type": "markdown",
   "id": "5e91afab-a85d-42e8-b962-c4b906a43079",
   "metadata": {},
   "source": [
    "На статистике было. Для a) и  b) есть центральные статистики как раз по случаю:  (переобозначим выборки за X и Y, так привычнее)  \n",
    "### Пункт **a)**\n",
    "  $H_0: \\mu_j^0 = \\mu_j^1$, против  $H_1: \\mu_j^0 \\neq \\mu_j^1$ на уровне значимости $\\alpha = 0.05$. $\\ \\ \\sigma_i^2 $ известны и равны, тогда $$G = \\frac{(\\overline{X} - \\overline{Y}) - \\theta}{\\sqrt{\\frac{\\sigma_x^2}{n_x} + \\frac{\\sigma_y^2}{n_y}}} \\sim \\mathcal{N}(0,1)$$\n",
    "Это уравнение возникает из системы\n",
    "$$ (\\overline{X}-\\mu_x) \\sim \\mathcal{N}(0,\\frac{\\sigma_x^2}{n_x}) $$\n",
    "$$(\\overline{Y}-\\mu_y) \\sim \\mathcal{N}(0,\\frac{\\sigma_y^2}{n_y}) $$ \n",
    "\n",
    "Ведь отсюда разность $(\\overline{X} - \\overline{Y}) \\sim \\mathcal{N}(0,\\frac{\\sigma_x^2}{n_x} + \\frac{\\sigma_y^2}{n_y})$  \n",
    "\n",
    "\n",
    "Возвращаясь к условию - считаем статистику $G = \\frac{(\\overline{X} - \\overline{Y}) - \\theta}{\\sqrt{\\frac{\\sigma^2}{n_x} + \\frac{\\sigma^2}{n_y}}}$, и сравниваем с $\\alpha = 0.05$ альфа кванnилем нормального распределения: критическая область $\\Omega = {|G| >= \\mathcal{F}_{N(0,1)}(\\alpha)= 1.96}$. Если попали в область - основная гипотеза отвергается, не попали - принимается.\n",
    "\n",
    "### Пункт **б)** \n",
    "Теперь $ \\sigma_i^2 $ неизвестны, но равны, тогда \n",
    " $$G = \\frac{\\frac{(\\overline{X} - \\overline{Y})}{\\sqrt{\\frac{1}{n_x} + \\frac{1}{n_y}}}}{\\sqrt{\\frac{\\sum(x_i-\\overline{x})^2+\\sum(y_i-\\overline{y})^2}{n_x+n_y-2}}} = \\frac{\\overline{X} - \\overline{Y}}{\\sqrt{S^2 \\left( \\frac{1}{n_x} + \\frac{1}{n_y} \\right)}} \\sim \\mathcal{St}(n_x+n_y-2)$$\n",
    "Это продолжение предыдущего пункта с оценкой общей дисперсии $S^2$ и несмещённых выборочных $S_1,S_2$, после -  сокращение общей части $\\sigma^2$ в числителе и знаменателе. $S^2 = \\frac{(m_0 - 1) S_0^2 + (m_1 - 1) S_1^2}{m_0 + m_1 - 2}$\n",
    "где: $S_0^2$ и $S_1^2$ — выборочные дисперсии признака $j$ в классах 0 и 1.  \n",
    "\n",
    "Аналогично определяется критическая область, теперь через квантили распределения Стьюдента:  $\\Omega = {|G| >= \\mathcal{St}_{n_x+n_y-2}(\\alpha)}$. Если попали в область - основная гипотеза отвергается, не попали - принимается.\n"
   ]
  },
  {
   "cell_type": "markdown",
   "id": "7198f593-4101-49db-8462-c9be92f45fba",
   "metadata": {},
   "source": [
    "### Пункт в) "
   ]
  },
  {
   "cell_type": "code",
   "execution_count": 7,
   "id": "1234685b-36bd-4be7-83ef-1c06f09383b9",
   "metadata": {},
   "outputs": [],
   "source": [
    "n = 100  \n",
    "m1_values = [100, 500, 1000]\n",
    "m2_values = [100, 500, 1000]\n",
    "alpha = 0.05\n",
    "j_special = 12"
   ]
  },
  {
   "cell_type": "code",
   "execution_count": 9,
   "id": "238a8cfb-6985-4457-be43-31d4ec9919e5",
   "metadata": {},
   "outputs": [
    {
     "data": {
      "text/plain": [
       "((100, 500), (100, 500))"
      ]
     },
     "execution_count": 9,
     "metadata": {},
     "output_type": "execute_result"
    }
   ],
   "source": [
    "import numpy as np\n",
    "\n",
    "def generate_data(n, m1, m2, j_special):\n",
    "    X0 = [np.random.normal(0, j, m1) for j in range(1, n + 1)]\n",
    "    X1 = [np.random.normal(0, j, m2) for j in range(1, n + 1)]\n",
    "    X1[j_special] = np.random.normal(1, j_special + 1, m2)\n",
    "    return np.array(X0), np.array(X1)\n",
    "\n",
    "X0, X1 = generate_data(n, m1_values[1], m2_values[1], j_special)\n",
    "X0.shape, X1.shape"
   ]
  },
  {
   "cell_type": "code",
   "execution_count": 11,
   "id": "bb4bcb22-7def-48b7-af58-51a74147707e",
   "metadata": {},
   "outputs": [
    {
     "name": "stdout",
     "output_type": "stream",
     "text": [
      "[0.8843584811263212, 0.5957260979910091, 0.10684470586104682, 0.3848338574297979, 0.29308732367354123, 0.6788715419807896, 0.44274720165005665, 0.6797536978124381, 0.0848958320126086, 0.12185355696221313, 0.23040865269587957, 0.5099275272340222, 0.17563336753389489, 0.740076090886514, 0.8628780702103647, 0.9272551543744696, 0.9334882331799037, 0.25764875984013474, 0.8621210994178491, 0.0397086682583811, 0.5487523395538836, 0.11209202505151741, 0.7434054925525383, 0.6084542530664603, 0.9482010501184212, 0.60092380768347, 0.2697986287914528, 0.6792803703206581, 0.4840579766526246, 0.5961805091046106, 0.9980367609175231, 0.9849306701273267, 0.8220044524249261, 0.6290503754181052, 0.25669017602881816, 0.8350783179150061, 0.38285453822867455, 0.15308571181125158, 0.16777741818967012, 0.6302142563091122, 0.4186056199859106, 0.7568424552955838, 0.660697134775956, 0.005485524330919167, 0.0013993149812062866, 0.31721879450540225, 0.7644599332165971, 0.6565601219485226, 0.41222565280160817, 0.6824213063245417, 0.545118057488402, 0.7903372752316443, 0.6749617161221503, 0.6012303799871617, 0.5705320271311376, 0.6204272316150827, 0.9529741294690008, 0.0364530347695421, 0.7335298627155333, 0.2309624624246213, 0.08138113134783774, 0.45176632823465523, 0.18368897332705011, 0.20638162251428208, 0.19551039044451413, 0.9516506286941764, 0.42879226630150413, 0.9405004900567631, 0.010725675254549665, 0.9112017741063935, 0.024693220033837962, 0.75374278224027, 0.08294261418321143, 0.07284037966877292, 0.9005331814509611, 0.04244714150226528, 0.7285963330195513, 0.06497002856458325, 0.40999103108884394, 0.049639087131683225, 0.8260077492297182, 0.859451198970678, 0.3938734777404087, 0.7338569064344889, 0.9157661877469115, 0.539943634103889, 0.4975232581040152, 0.9195316207198807, 0.29060162081958235, 0.9620857815423628, 0.512661797865667, 0.8651386353974735, 0.7960239289883251, 0.8479128489204971, 0.16763504104497534, 0.5307580163588088, 0.5461733209067308, 0.9950595800410025, 0.2983331031873081, 0.36263528014589574]\n"
     ]
    }
   ],
   "source": [
    "def test(x1, x2):\n",
    "    t_stat, p_value = stats.ttest_ind(x1, x2, equal_var=False)\n",
    "    return p_value\n",
    "    \n",
    "def G_test(x1, x2):  # в задании реализацию просят, но можно использовать функцию выше, так как эта статистика популярная и за нас сделана\n",
    "    m1, m2 = len(x1), len(x2)  # на всякий случай вот реализация, вдруг принципиально в задании\n",
    "    S1 = np.sum((x1-np.mean(x1))**2) / (m1 - 1)\n",
    "    S2 = np.sum((x2-np.mean(x2))**2) / (m2 - 1)\n",
    "    S = ((m1-1)*S1 + (m2-1)*S2) / (m1+m2-2)\n",
    "    G = (np.mean(x1) - np.mean(x2)) / ((S * (1/m1 + 1/m2))**0.5)\n",
    "    return np.minimum(sc.stats.t.cdf(G, m1 + m2 - 2), 1-sc.stats.t.cdf(G, m1 + m2 - 2)) * 2\n",
    "\n",
    "p_vals = [test(X0[i], X1[i]) for i in range(n)]\n",
    "print(p_vals) "
   ]
  },
  {
   "cell_type": "code",
   "execution_count": 13,
   "id": "92624802-37c0-4530-afaf-b6bc80f7b56d",
   "metadata": {},
   "outputs": [
    {
     "name": "stdout",
     "output_type": "stream",
     "text": [
      "[0.99184101 0.99184101 0.74728017 0.99184101 0.96236485 0.99184101\n",
      " 0.99184101 0.99184101 0.65304486 0.76158473 0.92384985 0.99184101\n",
      " 0.8747094  0.99184101 0.99184101 0.99184101 0.99184101 0.95425467\n",
      " 0.99184101 0.60638774 0.99184101 0.74728017 0.99184101 0.99184101\n",
      " 0.99184101 0.99184101 0.96236485 0.99184101 0.99184101 0.99184101\n",
      " 0.99803676 0.99803676 0.99184101 0.99184101 0.95425467 0.99184101\n",
      " 0.99184101 0.8747094  0.8747094  0.99184101 0.99184101 0.99184101\n",
      " 0.99184101 0.27427622 0.1399315  0.99130873 0.99184101 0.99184101\n",
      " 0.99184101 0.99184101 0.99184101 0.99184101 0.99184101 0.99184101\n",
      " 0.99184101 0.99184101 0.99184101 0.60638774 0.99184101 0.92384985\n",
      " 0.65304486 0.99184101 0.8747094  0.8973114  0.88868359 0.99184101\n",
      " 0.99184101 0.99184101 0.35752251 0.99184101 0.60638774 0.99184101\n",
      " 0.65304486 0.65304486 0.99184101 0.60638774 0.99184101 0.65304486\n",
      " 0.99184101 0.62048859 0.99184101 0.99184101 0.99184101 0.99184101\n",
      " 0.99184101 0.99184101 0.99184101 0.99184101 0.96236485 0.99184101\n",
      " 0.99184101 0.99184101 0.99184101 0.99184101 0.8747094  0.99184101\n",
      " 0.99184101 0.99803676 0.96236485 0.99184101]\n",
      "(1 - отклонить, 0 - не отклонить): [False False False False False False False False False False False False\n",
      " False False False False False False False False False False False False\n",
      " False False False False False False False False False False False False\n",
      " False False False False False False False False False False False False\n",
      " False False False False False False False False False False False False\n",
      " False False False False False False False False False False False False\n",
      " False False False False False False False False False False False False\n",
      " False False False False False False False False False False False False\n",
      " False False False False]\n"
     ]
    }
   ],
   "source": [
    "def benjamini_hochberg(p_vals, alpha=0.05):\n",
    "    rej, p_vals_adj, _, _ = smm.multipletests(p_vals, alpha=alpha, method='fdr_bh')\n",
    "    return p_vals_adj, rej\n",
    "\n",
    "p_vals_adj, rej = benjamini_hochberg(p_vals)\n",
    "\n",
    "print(p_vals_adj)\n",
    "print(\"(1 - отклонить, 0 - не отклонить):\", rej)"
   ]
  },
  {
   "cell_type": "code",
   "execution_count": 15,
   "id": "90d7bbfe-771d-4932-950a-2f26ac2cb243",
   "metadata": {},
   "outputs": [
    {
     "name": "stdout",
     "output_type": "stream",
     "text": [
      "Истинные положительные: 0\n",
      "Ложные положительные: 0\n"
     ]
    }
   ],
   "source": [
    "def analyze_results(rej, j_special):  \n",
    "    tp = int(rej[j_special])\n",
    "    fp = np.sum(rej) - tp\n",
    "    return tp, fp\n",
    "\n",
    "tp, fp = analyze_results(rej, j_special)\n",
    "print(f\"Истинные положительные: {tp}\")\n",
    "print(f\"Ложные положительные: {fp}\")"
   ]
  },
  {
   "cell_type": "code",
   "execution_count": 17,
   "id": "e754b68a-1c84-45e5-8a7d-c8afd66c4b29",
   "metadata": {},
   "outputs": [
    {
     "name": "stdout",
     "output_type": "stream",
     "text": [
      "m1=100, m2=100: TP=0, FP=0\n",
      "m1=100, m2=500: TP=0, FP=0\n",
      "m1=100, m2=1000: TP=0, FP=0\n",
      "m1=100, m2=2000: TP=0, FP=0\n",
      "m1=100, m2=5000: TP=0, FP=2\n",
      "m1=100, m2=10000: TP=0, FP=0\n",
      "m1=500, m2=100: TP=0, FP=0\n",
      "m1=500, m2=500: TP=0, FP=0\n",
      "m1=500, m2=1000: TP=0, FP=0\n",
      "m1=500, m2=2000: TP=0, FP=0\n",
      "m1=500, m2=5000: TP=0, FP=0\n",
      "m1=500, m2=10000: TP=0, FP=0\n",
      "m1=1000, m2=100: TP=0, FP=1\n",
      "m1=1000, m2=500: TP=0, FP=0\n",
      "m1=1000, m2=1000: TP=0, FP=1\n",
      "m1=1000, m2=2000: TP=0, FP=0\n",
      "m1=1000, m2=5000: TP=0, FP=0\n",
      "m1=1000, m2=10000: TP=1, FP=0\n",
      "m1=2000, m2=100: TP=0, FP=0\n",
      "m1=2000, m2=500: TP=0, FP=0\n",
      "m1=2000, m2=1000: TP=0, FP=0\n",
      "m1=2000, m2=2000: TP=0, FP=0\n",
      "m1=2000, m2=5000: TP=0, FP=0\n",
      "m1=2000, m2=10000: TP=0, FP=0\n",
      "m1=5000, m2=100: TP=0, FP=0\n",
      "m1=5000, m2=500: TP=0, FP=0\n",
      "m1=5000, m2=1000: TP=0, FP=1\n",
      "m1=5000, m2=2000: TP=0, FP=1\n",
      "m1=5000, m2=5000: TP=0, FP=0\n",
      "m1=5000, m2=10000: TP=1, FP=0\n",
      "m1=10000, m2=100: TP=0, FP=0\n",
      "m1=10000, m2=500: TP=0, FP=0\n",
      "m1=10000, m2=1000: TP=0, FP=0\n",
      "m1=10000, m2=2000: TP=0, FP=0\n",
      "m1=10000, m2=5000: TP=1, FP=0\n",
      "m1=10000, m2=10000: TP=1, FP=0\n"
     ]
    }
   ],
   "source": [
    "m1_values = m2_values = [100, 500, 1000, 2000, 5000,10000]\n",
    "results = []\n",
    "\n",
    "for m1 in m1_values:\n",
    "    for m2 in m2_values:\n",
    "        X0, X1 = generate_data(n, m1, m2, j_special)\n",
    "        p_vals = [test(X0[i], X1[i]) for i in range(n)]\n",
    "        p_vals_adj, rej = benjamini_hochberg(p_vals)\n",
    "        tp, fp = analyze_results(rej, j_special)\n",
    "        results.append((m1, m2, tp, fp))\n",
    "\n",
    "# Выводим результаты\n",
    "for result in results:\n",
    "    m1, m2, tp, fp = result\n",
    "    print(f\"m1={m1}, m2={m2}: TP={tp}, FP={fp}\")\n"
   ]
  },
  {
   "cell_type": "code",
   "execution_count": 19,
   "id": "2885c0d3-8366-4b21-9547-28a7c2fead63",
   "metadata": {},
   "outputs": [],
   "source": [
    "to_plot = []\n",
    "\n",
    "m1_values = m2_values = [100, 500, 1000, 2000, 5000,10000]\n",
    "\n",
    "for m1 in m1_values:\n",
    "    for m2 in m2_values:\n",
    "        tp_ = []\n",
    "        fp_ = []\n",
    "        for _ in range(50):\n",
    "            X0, X1 = generate_data(n, m1, m2, j_special)\n",
    "            p_vals = [test(X0[i], X1[i]) for i in range(n)]\n",
    "            p_vals_adj, rej = benjamini_hochberg(p_vals)\n",
    "            tp, fp = analyze_results(rej, j_special)\n",
    "            tp_.append(tp)\n",
    "            fp_.append(fp)\n",
    "        to_plot.append([m1,m2,sum(tp_)/50,sum(fp_)/50])\n"
   ]
  },
  {
   "cell_type": "code",
   "execution_count": 21,
   "id": "6ae6e4df-f06a-486b-973d-8d02ff9413e4",
   "metadata": {
    "editable": true,
    "slideshow": {
     "slide_type": ""
    },
    "tags": []
   },
   "outputs": [
    {
     "data": {
      "text/plain": [
       "[[100, 100, 0.0, 0.02],\n",
       " [100, 500, 0.0, 0.02],\n",
       " [100, 1000, 0.0, 0.12],\n",
       " [100, 2000, 0.0, 0.0],\n",
       " [100, 5000, 0.02, 0.02],\n",
       " [100, 10000, 0.0, 0.06],\n",
       " [500, 100, 0.0, 0.16],\n",
       " [500, 500, 0.04, 0.18],\n",
       " [500, 1000, 0.04, 0.12],\n",
       " [500, 2000, 0.04, 0.1],\n",
       " [500, 5000, 0.04, 0.04],\n",
       " [500, 10000, 0.02, 0.08],\n",
       " [1000, 100, 0.0, 0.08],\n",
       " [1000, 500, 0.0, 0.0],\n",
       " [1000, 1000, 0.02, 0.14],\n",
       " [1000, 2000, 0.08, 0.08],\n",
       " [1000, 5000, 0.12, 0.08],\n",
       " [1000, 10000, 0.1, 0.02],\n",
       " [2000, 100, 0.0, 0.1],\n",
       " [2000, 500, 0.02, 0.02],\n",
       " [2000, 1000, 0.1, 0.06],\n",
       " [2000, 2000, 0.12, 0.08],\n",
       " [2000, 5000, 0.3, 0.06],\n",
       " [2000, 10000, 0.36, 0.04],\n",
       " [5000, 100, 0.0, 0.08],\n",
       " [5000, 500, 0.08, 0.06],\n",
       " [5000, 1000, 0.16, 0.08],\n",
       " [5000, 2000, 0.38, 0.1],\n",
       " [5000, 5000, 0.64, 0.12],\n",
       " [5000, 10000, 0.88, 0.08],\n",
       " [10000, 100, 0.0, 0.08],\n",
       " [10000, 500, 0.04, 0.04],\n",
       " [10000, 1000, 0.18, 0.04],\n",
       " [10000, 2000, 0.46, 0.06],\n",
       " [10000, 5000, 0.92, 0.08],\n",
       " [10000, 10000, 0.96, 0.12]]"
      ]
     },
     "execution_count": 21,
     "metadata": {},
     "output_type": "execute_result"
    }
   ],
   "source": [
    "to_plot"
   ]
  },
  {
   "cell_type": "code",
   "execution_count": null,
   "id": "ab81e65f-a96e-4113-897e-abda54cbc4ea",
   "metadata": {},
   "outputs": [],
   "source": []
  },
  {
   "cell_type": "code",
   "execution_count": 23,
   "id": "2e785b13-c3b2-4628-8f05-076328b7ccba",
   "metadata": {},
   "outputs": [
    {
     "data": {
      "image/png": "[encoded data removed]",
      "text/plain": [
       "<Figure size 1200x600 with 4 Axes>"
      ]
     },
     "metadata": {},
     "output_type": "display_data"
    }
   ],
   "source": [
    "tp_matrix = np.zeros((len(m1_values), len(m2_values)))\n",
    "fp_matrix = np.zeros((len(m1_values), len(m2_values)))\n",
    "\n",
    "for row in to_plot:\n",
    "    m1, m2, tp, fp = row\n",
    "    i = m1_values.index(m1)\n",
    "    j = m2_values.index(m2)\n",
    "    tp_matrix[i, j] = tp\n",
    "    fp_matrix[i, j] = fp\n",
    "\n",
    "\n",
    "fig, axs = plt.subplots(1, 2, figsize=(12, 6))\n",
    "\n",
    "im1 = axs[0].imshow(tp_matrix, extent=[min(m2_values), max(m2_values), min(m1_values), max(m1_values)], aspect='auto', origin='lower')\n",
    "axs[0].set_title('True Positive (tp)')\n",
    "axs[0].set_xlabel('m2')\n",
    "axs[0].set_ylabel('m1')\n",
    "fig.colorbar(im1, ax=axs[0])\n",
    "\n",
    "im2 = axs[1].imshow(fp_matrix, extent=[min(m2_values), max(m2_values), min(m1_values), max(m1_values)], aspect='auto', origin='lower')\n",
    "axs[1].set_title('False Positive (fp)')\n",
    "axs[1].set_xlabel('m2')\n",
    "axs[1].set_ylabel('m1')\n",
    "fig.colorbar(im2, ax=axs[1])\n",
    "\n",
    "plt.show()"
   ]
  },
  {
   "cell_type": "markdown",
   "id": "dc183132-ef6b-4daa-a02d-a6badad98271",
   "metadata": {},
   "source": [
    "Видим что True Positive появляется при увеличении размеры выборки, а FP это от шума и случайности, так что нет зависимости на графике"
   ]
  },
  {
   "cell_type": "markdown",
   "id": "a0f6072e-5473-4874-8add-3e856ad29cde",
   "metadata": {},
   "source": [
    "### Пункт г) \n",
    "\n",
    "Когда признаки не имеют нормального распределения можно использовать критерий Манна-Уитни (U-критерий) для двух независимых выборок. Вроде этот метод не предполагает нормальности распределения. Дополнительно можно использовать ту же поправку Бенджамини-Хохберга."
   ]
  },
  {
   "cell_type": "code",
   "execution_count": 28,
   "id": "8b441cd0-a1b7-44f8-ab21-b746f4c6d5c8",
   "metadata": {},
   "outputs": [
    {
     "name": "stdout",
     "output_type": "stream",
     "text": [
      "Mann-Whitney U Test Statistic: [5406. 4325. 5405. ... 5111. 5346. 4710.]\n",
      "P-value: [0.32178609 0.09933917 0.32298087 ... 0.78716451 0.39856276 0.47934212]\n"
     ]
    }
   ],
   "source": [
    "from scipy.stats import mannwhitneyu\n",
    "\n",
    "statistic, p_value = mannwhitneyu(X0, X1)\n",
    "print(\"Mann-Whitney U Test Statistic:\", statistic)\n",
    "print(\"P-value:\", p_value)\n"
   ]
  },
  {
   "cell_type": "markdown",
   "id": "6d5b10e5-85e7-4c11-87e8-534f34617d98",
   "metadata": {},
   "source": [
    "## Задача 5"
   ]
  },
  {
   "cell_type": "markdown",
   "id": "1279e66a-8d67-4f22-bc1d-23e259f82b78",
   "metadata": {},
   "source": [
    "### часть а) Метод главных компонент\n",
    "Метод главных компонент (Principal Component Analysis, PCA) - это статистический метод, используемый для уменьшения размерности данных и выявления основных закономерностей в данных. Он решает задачу снижения размерности, сохраняя при этом максимально возможную информацию, путем представления данных в новой системе координат, где первая ось направлена в сторону наибольшей дисперсии данных, вторая ось - в сторону второй по величине дисперсии и так далее.  \n",
    "Основные задачи PCA включают уменьшение количества признаков с сохранением большей части информации, выявление скрытых закономерностей, устранение шума и мультиколлинеарности, сжатие данных и предобработку для других алгоритмов.\n",
    "\n",
    "### часть б) Результат применения\n",
    "\n",
    "Для применения PCA нам нужно найти собственные вектора и собственные значения ковариационной матрицы признаков:\n",
    "\n",
    "1. Ковариационная матрица: \n",
    "   \n",
    "   Ковариационная матрица признаков определяется так (центрирование не нужно из-за нулевых средних)  \n",
    "   \n",
    "   $$ S_X = \\frac{1}{m} X^T X. $$\n",
    "\n",
    "   Поскольку каждый столбец матрицы $ X $ — это независимые признаки, распределенные нормально, ковариационная матрица будет приближаться к\n",
    "   \n",
    "   $$ S_X \\approx \\sigma^2 I_n, $$\n",
    "   \n",
    "   где $ I_n $ — единичная матрица размера $ n \\times n $, а $ \\sigma^2 $ — дисперсия.\n",
    "\n",
    "2. Собственные значения и вектора:\n",
    "   \n",
    "   Так как $ S_X $ пропорциональна единичной матрице, собственные вектора ковариационной матрицы будут совпадать с ортогональными осями пространства признаков, а все собственные значения будут равны $ \\sigma^2 $. То есть все главные компоненты будут одинаково важны и не будут упорядочены по значимости.\n",
    "\n",
    "   То есть дисперсия итак максимальна по всемм направлениям и метод PCA не будет ничего делать.\n",
    "\n",
    "### часть в) зашумлённая копия признака + шкалированный признак\n",
    "\n",
    "1. Ожидаемая ковариационная матрица:\n",
    "\n",
    "   Ковариационная матрица $ S_X $ будет представлять собой сумму ковариаций зашумленных копий признака $ \\chi_1 $ и шкалированного признака $ \\chi_2 $. Так как $ \\chi_1 $ и $ \\chi_2 $ независимы, ковариационная матрица примет вид:\n",
    "   \n",
    "   $$ S_X = \\frac{1}{m} X^T X \\approx \\sigma_1^2 I_{n-1} + \\kappa^2 \\sigma_2^2, $$\n",
    "\n",
    "   где $ \\sigma_1^2 $ — дисперсия зашумленных копий признака $ \\chi_1 $, а $ \\kappa^2 \\sigma_2^2 $ — дисперсия шкалированного признака $ \\chi_2 $.\n",
    "\n",
    "2. Первая главная компонента:\n",
    "\n",
    "   Если $ \\kappa $ велико, то основная вариация в данных будет объясняться признаком $ \\chi_2 $, и первая главная компонента будет близка к направлению $ \\chi_2 $. То есть, первая главная компонента будет соответствовать признаку $ \\chi_2 $ с весом $ \\kappa $.\n",
    "\n",
    "3. Ожидаемая доля объясненной дисперсии:\n",
    "\n",
    "   Ожидаемая доля дисперсии, объясненная первой главной компонентой, определяется как отношение дисперсии этой компоненты к общей дисперсии:\n",
    "\n",
    "   $$ \\text{Explained Variance Ratio} = \\frac{\\kappa^2 \\sigma_2^2}{(n-1)\\sigma_1^2 + \\kappa^2 \\sigma_2^2}. $$\n",
    "\n",
    "   При больших значениях $ \\kappa $, доля объясненной дисперсии стремится к 1, так как $ \\kappa^2 \\sigma_2^2 $ доминирует над $ (n-1) \\sigma_1^2 $.\n",
    "\n",
    "\n",
    "#### Практический вывод:\n",
    "\n",
    "Когда коэффициент шкалирования $ \\kappa $ велик, основная часть дисперсии данных объясняется всего одним признаком (шкалированным), что указывает на сильную доминирующую компоненту в данных. В таких ситуациях PCA эффективно выявляет эту доминирующую компоненту, позволяя значительно упростить описание данных.\n",
    "\n"
   ]
  },
  {
   "cell_type": "code",
   "execution_count": 8,
   "id": "ad044581-f44e-4e68-8020-19d67a41969d",
   "metadata": {},
   "outputs": [
    {
     "data": {
      "image/png": "[encoded data removed]",
      "text/plain": [
       "<Figure size 640x480 with 1 Axes>"
      ]
     },
     "metadata": {},
     "output_type": "display_data"
    }
   ],
   "source": [
    "import numpy as np\n",
    "from sklearn.decomposition import PCA\n",
    "import matplotlib.pyplot as plt\n",
    "\n",
    "# Функция для генерации матрицы X и вычисления главных компонент\n",
    "def generate_X_and_pca(m, n, kappa):\n",
    "    # Генерация признаков\n",
    "    chi_1 = np.random.randn(m, 1)  # Признак χ1 (N(0, I_m))\n",
    "    chi_2 = np.random.randn(m, 1)  # Признак χ2 (N(0, I_m))\n",
    "    epsilons = np.random.randn(m, n-1)  # Шум для копий χ1\n",
    "\n",
    "    # Матрица X: зашумленные копии χ1 и шкалированный χ2\n",
    "    X = np.hstack([chi_1 + epsilons, kappa * chi_2])\n",
    "\n",
    "    # Применение PCA\n",
    "    pca = PCA()\n",
    "    pca.fit(X)\n",
    "\n",
    "    # Первая главная компонента и доля объясненной дисперсии\n",
    "    first_component = pca.components_[0]\n",
    "    explained_variance_ratio = pca.explained_variance_ratio_[0]\n",
    "\n",
    "    return first_component, explained_variance_ratio\n",
    "\n",
    "# Сэмплирование и визуализация результатов для разных значений kappa\n",
    "def sample_pca_for_different_kappas(m, n, kappas, num_samples=100):\n",
    "    explained_variances = []\n",
    "\n",
    "    for kappa in kappas:\n",
    "        variance_sum = 0\n",
    "        for _ in range(num_samples):\n",
    "            _, explained_variance_ratio = generate_X_and_pca(m, n, kappa)\n",
    "            variance_sum += explained_variance_ratio\n",
    "\n",
    "        # Средняя доля объясненной дисперсии для текущего значения kappa\n",
    "        avg_explained_variance = variance_sum / num_samples\n",
    "        explained_variances.append(avg_explained_variance)\n",
    "\n",
    "    return explained_variances\n",
    "\n",
    "# Параметры\n",
    "m = 100  # Число объектов\n",
    "n = 10   # Число признаков\n",
    "kappas = np.linspace(0.1, 10, 20)  # Значения κ\n",
    "\n",
    "# Выполнение сэмплирования\n",
    "explained_variances = sample_pca_for_different_kappas(m, n, kappas)\n",
    "\n",
    "# Визуализация результатов\n",
    "plt.plot(kappas, explained_variances, marker='o')\n",
    "plt.xlabel('Коэффициент шкалирования (κ)')\n",
    "plt.ylabel('Доля объясненной дисперсии первой главной компонентой')\n",
    "plt.title('Доля объясненной дисперсии в зависимости от κ')\n",
    "plt.grid(True)\n",
    "plt.show()\n"
   ]
  },
  {
   "cell_type": "markdown",
   "id": "92395ac0-efb4-4f9b-ad62-d240280bec28",
   "metadata": {},
   "source": [
    "Для выполнения сэмплирования и вычисления первой главной компоненты матрицы \\( X \\) и доли объясненной дисперсии в зависимости от коэффициента шкалирования \\( \\kappa \\), мы можем использовать Python и библиотеку `numpy` для генерации данных, а также `sklearn` для выполнения PCA.\n",
    "\n",
    "### Шаги:\n",
    "1. Создадим матрицу \\( X \\) с зашумленными копиями признака \\( \\chi_1 \\) и шкалированным признаком \\( \\chi_2 \\).\n",
    "2. Применим метод PCA к матрице \\( X \\) для нахождения главных компонент.\n",
    "3. Вычислим долю объясненной дисперсии первой главной компонентой.\n",
    "4. Проведем сэмплирование для различных значений \\( \\kappa \\).\n",
    "\n",
    "### Код:\n",
    "\n",
    "```python\n",
    "import numpy as np\n",
    "from sklearn.decomposition import PCA\n",
    "import matplotlib.pyplot as plt\n",
    "\n",
    "# Функция для генерации матрицы X и вычисления главных компонент\n",
    "def generate_X_and_pca(m, n, kappa):\n",
    "    # Генерация признаков\n",
    "    chi_1 = np.random.randn(m, 1)  # Признак χ1 (N(0, I_m))\n",
    "    chi_2 = np.random.randn(m, 1)  # Признак χ2 (N(0, I_m))\n",
    "    epsilons = np.random.randn(m, n-1)  # Шум для копий χ1\n",
    "\n",
    "    # Матрица X: зашумленные копии χ1 и шкалированный χ2\n",
    "    X = np.hstack([chi_1 + epsilons, kappa * chi_2])\n",
    "\n",
    "    # Применение PCA\n",
    "    pca = PCA()\n",
    "    pca.fit(X)\n",
    "\n",
    "    # Первая главная компонента и доля объясненной дисперсии\n",
    "    first_component = pca.components_[0]\n",
    "    explained_variance_ratio = pca.explained_variance_ratio_[0]\n",
    "\n",
    "    return first_component, explained_variance_ratio\n",
    "\n",
    "# Сэмплирование и визуализация результатов для разных значений kappa\n",
    "def sample_pca_for_different_kappas(m, n, kappas, num_samples=100):\n",
    "    explained_variances = []\n",
    "\n",
    "    for kappa in kappas:\n",
    "        variance_sum = 0\n",
    "        for _ in range(num_samples):\n",
    "            _, explained_variance_ratio = generate_X_and_pca(m, n, kappa)\n",
    "            variance_sum += explained_variance_ratio\n",
    "\n",
    "        # Средняя доля объясненной дисперсии для текущего значения kappa\n",
    "        avg_explained_variance = variance_sum / num_samples\n",
    "        explained_variances.append(avg_explained_variance)\n",
    "\n",
    "    return explained_variances\n",
    "\n",
    "# Параметры\n",
    "m = 100  # Число объектов\n",
    "n = 10   # Число признаков\n",
    "kappas = np.linspace(0.1, 10, 20)  # Значения κ\n",
    "\n",
    "# Выполнение сэмплирования\n",
    "explained_variances = sample_pca_for_different_kappas(m, n, kappas)\n",
    "\n",
    "# Визуализация результатов\n",
    "plt.plot(kappas, explained_variances, marker='o')\n",
    "plt.xlabel('Коэффициент шкалирования (κ)')\n",
    "plt.ylabel('Доля объясненной дисперсии первой главной компонентой')\n",
    "plt.title('Доля объясненной дисперсии в зависимости от κ')\n",
    "plt.grid(True)\n",
    "plt.show()\n",
    "```\n",
    "\n",
    "### Описание кода:\n",
    "1. **`generate_X_and_pca`** — функция для генерации матрицы \\( X \\) на основе нормальных распределений и применения PCA. Возвращает первую главную компоненту и долю объясненной дисперсии.\n",
    "2. **`sample_pca_for_different_kappas`** — функция для сэмплирования. Для каждого значения \\( \\kappa \\) проводится несколько экспериментов и вычисляется средняя доля объясненной дисперсии.\n",
    "3. **График** — строится график зависимости доли объясненной дисперсии от коэффициента шкалирования \\( \\kappa \\).\n",
    "\n",
    "### Практический вывод:\n",
    "- При увеличении \\( \\kappa \\), доля объясненной дисперсии первой главной компонентой увеличивается. Это связано с тем, что шкалированный признак \\( \\chi_2 \\) начинает доминировать над зашумленными копиями признака \\( \\chi_1 \\).\n",
    "- В ситуациях, когда один признак имеет гораздо большее влияние на данные (большой коэффициент \\( \\kappa \\)), метод PCA эффективно выявляет этот признак и выделяет его как первую главную компоненту."
   ]
  },
  {
   "cell_type": "markdown",
   "id": "85932b1b-a424-47d6-9d0f-71bbfede3d66",
   "metadata": {},
   "source": [
    "График показывает зависимость доли объясненной дисперсии первой главной компонентой от коэффициента шкалирования \\( \\kappa \\). Анализируем результаты:\n",
    "\n",
    "1. **Малые значения \\( \\kappa \\) (около 0):**\n",
    "   - При небольших значениях \\( \\kappa \\), признак \\( \\chi_2 \\) оказывает малое влияние, и доля объясненной дисперсии распределяется среди зашумленных копий признака \\( \\chi_1 \\). Это видно по тому, что доля объясненной дисперсии находится около 0.6 и постепенно уменьшается.\n",
    "\n",
    "2. **Минимум на графике (около \\( \\kappa \\approx 2-4 \\)):**\n",
    "   - На этом участке доля объясненной дисперсии падает до минимума, так как влияние признака \\( \\chi_2 \\) ещё недостаточно велико, а шумовые компоненты признаков \\( \\chi_1 \\) начинают вносить большее разнообразие в данные. Это приводит к снижению объясненной дисперсии первой главной компонентой.\n",
    "\n",
    "3. **Увеличение \\( \\kappa \\):**\n",
    "   - С ростом \\( \\kappa \\) признак \\( \\chi_2 \\) становится доминирующим, так как его вклад увеличивается из-за масштаба \\( \\kappa \\). Это приводит к тому, что метод PCA начинает выделять \\( \\chi_2 \\) в качестве первой главной компоненты, и объясненная дисперсия начинает расти. На больших значениях \\( \\kappa \\) она стабилизируется ближе к 0.8.\n",
    "\n",
    "### Практический вывод:\n",
    "- Когда коэффициент шкалирования \\( \\kappa \\) мал, дисперсия распределена среди шумовых копий признака \\( \\chi_1 \\), и первая главная компонента отражает эти копии. \n",
    "- С увеличением \\( \\kappa \\), \\( \\chi_2 \\) начинает доминировать, и первая главная компонента все больше отражает этот признак.\n",
    "- Это показывает, что PCA может корректно идентифицировать направление с максимальной дисперсией, даже если оно зависит от масштаба данных, и объясненная дисперсия первой компонентой будет расти с увеличением доминирующего признака."
   ]
  }
 ],
 "metadata": {
  "kernelspec": {
   "display_name": "Python 3 (ipykernel)",
   "language": "python",
   "name": "python3"
  },
  "language_info": {
   "codemirror_mode": {
    "name": "ipython",
    "version": 3
   },
   "file_extension": ".py",
   "mimetype": "text/x-python",
   "name": "python",
   "nbconvert_exporter": "python",
   "pygments_lexer": "ipython3",
   "version": "3.12.4"
  }
 },
 "nbformat": 4,
 "nbformat_minor": 5
}
